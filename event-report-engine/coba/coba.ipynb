{
 "cells": [
  {
   "cell_type": "code",
   "execution_count": 43,
   "metadata": {},
   "outputs": [],
   "source": [
    "import numpy as np\n",
    "import pandas as pd\n",
    "\n",
    "import re\n",
    "import html\n",
    "import json\n",
    "import pickle\n",
    "\n",
    "import nltk\n",
    "import anago\n",
    "\n",
    "from Sastrawi.Stemmer.StemmerFactory import StemmerFactory\n",
    "\n",
    "from sklearn.model_selection import train_test_split\n",
    "from keras.preprocessing.text import Tokenizer\n",
    "from keras.preprocessing import sequence\n",
    "\n",
    "from keras.models import Sequential\n",
    "from keras.layers import LSTM, GRU, Activation, Dense, Dropout, Input, Embedding, MaxPooling1D\n",
    "from keras.optimizers import RMSprop\n",
    "from keras.callbacks import EarlyStopping,  ModelCheckpoint\n",
    "\n",
    "import seaborn as sn"
   ]
  },
  {
   "cell_type": "code",
   "execution_count": 18,
   "metadata": {},
   "outputs": [
    {
     "data": {
      "text/html": [
       "<div>\n",
       "<style>\n",
       "    .dataframe thead tr:only-child th {\n",
       "        text-align: right;\n",
       "    }\n",
       "\n",
       "    .dataframe thead th {\n",
       "        text-align: left;\n",
       "    }\n",
       "\n",
       "    .dataframe tbody tr th {\n",
       "        vertical-align: top;\n",
       "    }\n",
       "</style>\n",
       "<table border=\"1\" class=\"dataframe\">\n",
       "  <thead>\n",
       "    <tr style=\"text-align: right;\">\n",
       "      <th></th>\n",
       "      <th>user_id</th>\n",
       "      <th>tweet</th>\n",
       "      <th>label</th>\n",
       "    </tr>\n",
       "  </thead>\n",
       "  <tbody>\n",
       "    <tr>\n",
       "      <th>0</th>\n",
       "      <td>66378098</td>\n",
       "      <td>[HARI PEREMPUAN INTERNASIONAL]\\n\\nHari Perempu...</td>\n",
       "      <td>0</td>\n",
       "    </tr>\n",
       "    <tr>\n",
       "      <th>1</th>\n",
       "      <td>66378098</td>\n",
       "      <td>Himasika mengucapkan selamat hari raya idul Ad...</td>\n",
       "      <td>0</td>\n",
       "    </tr>\n",
       "    <tr>\n",
       "      <th>2</th>\n",
       "      <td>66378098</td>\n",
       "      <td>[COMING SOON]\\n\\nHalo mahasiswa fisika!\\nMusya...</td>\n",
       "      <td>0</td>\n",
       "    </tr>\n",
       "    <tr>\n",
       "      <th>3</th>\n",
       "      <td>66378098</td>\n",
       "      <td>[PENDAFTARAN BMS 2018 DIBUKA]\\n\\nPendaftaran B...</td>\n",
       "      <td>0</td>\n",
       "    </tr>\n",
       "    <tr>\n",
       "      <th>4</th>\n",
       "      <td>66378098</td>\n",
       "      <td>Persiapan hari ke 2 OKKBK Fisika ITS semangat ...</td>\n",
       "      <td>0</td>\n",
       "    </tr>\n",
       "  </tbody>\n",
       "</table>\n",
       "</div>"
      ],
      "text/plain": [
       "    user_id                                              tweet  label\n",
       "0  66378098  [HARI PEREMPUAN INTERNASIONAL]\\n\\nHari Perempu...      0\n",
       "1  66378098  Himasika mengucapkan selamat hari raya idul Ad...      0\n",
       "2  66378098  [COMING SOON]\\n\\nHalo mahasiswa fisika!\\nMusya...      0\n",
       "3  66378098  [PENDAFTARAN BMS 2018 DIBUKA]\\n\\nPendaftaran B...      0\n",
       "4  66378098  Persiapan hari ke 2 OKKBK Fisika ITS semangat ...      0"
      ]
     },
     "execution_count": 18,
     "metadata": {},
     "output_type": "execute_result"
    }
   ],
   "source": [
    "data = pd.read_csv(\"dataset/tweets.csv\")\n",
    "data.head()"
   ]
  },
  {
   "cell_type": "code",
   "execution_count": 19,
   "metadata": {},
   "outputs": [
    {
     "data": {
      "text/plain": [
       "0    1623\n",
       "1     444\n",
       "Name: label, dtype: int64"
      ]
     },
     "execution_count": 19,
     "metadata": {},
     "output_type": "execute_result"
    }
   ],
   "source": [
    "data['label'].value_counts()"
   ]
  },
  {
   "cell_type": "code",
   "execution_count": null,
   "metadata": {},
   "outputs": [],
   "source": []
  },
  {
   "cell_type": "code",
   "execution_count": 20,
   "metadata": {},
   "outputs": [],
   "source": [
    "def clean_text_classification(text):\n",
    "    text = text.lower()\n",
    "    \n",
    "    text = re.sub(r'@[A-Za-z0-9]+', ' ', text)\n",
    "    text = re.sub(r'#[A-Za-z0-9]+', ' ', text)\n",
    "    text = re.sub(r'\\w+:\\/\\/\\S+', ' ', text)\n",
    "    text = re.sub(r'[^a-zA-Z0-9]', ' ', text)\n",
    "    \n",
    "    text = re.sub(r' +', ' ', text)\n",
    "    \n",
    "    return ' '.join(text.split())"
   ]
  },
  {
   "cell_type": "code",
   "execution_count": 21,
   "metadata": {},
   "outputs": [],
   "source": [
    "def clean_text_ner(text):\n",
    "    \n",
    "    text = html.unescape(text)\n",
    "    text = re.sub(r'#[A-Za-z0-9]+', ' ', text)\n",
    "    text = re.sub(r'\\w+:\\/\\/\\S+', ' ', text)\n",
    "    \n",
    "    text = re.sub(r' +', ' ', text)\n",
    "    \n",
    "    return ' '.join(text.split())"
   ]
  },
  {
   "cell_type": "code",
   "execution_count": 22,
   "metadata": {},
   "outputs": [],
   "source": [
    "def replace_slang(text, acronym):\n",
    "    res = []\n",
    "    \n",
    "    for w in text.split(' '):\n",
    "        if w in acronym:\n",
    "            res.append(acronym[w])\n",
    "        else:\n",
    "            res.append(w)\n",
    "    \n",
    "    return ' '.join(res)"
   ]
  },
  {
   "cell_type": "code",
   "execution_count": 23,
   "metadata": {},
   "outputs": [],
   "source": [
    "def stemming(text, stemmer):\n",
    "    stem_text = stemmer.stem(text)\n",
    "    return stem_text"
   ]
  },
  {
   "cell_type": "code",
   "execution_count": 24,
   "metadata": {},
   "outputs": [],
   "source": [
    "with open(\"extra/akronim.json\", \"r\") as f:    \n",
    "    acronym_map = json.load(f)"
   ]
  },
  {
   "cell_type": "code",
   "execution_count": 25,
   "metadata": {},
   "outputs": [],
   "source": [
    "factory = StemmerFactory()\n",
    "stemmer = factory.create_stemmer()"
   ]
  },
  {
   "cell_type": "code",
   "execution_count": 26,
   "metadata": {},
   "outputs": [],
   "source": [
    "data['tweet_clf'] = data['tweet'].apply(lambda x: clean_text_classification(x))\n",
    "data['tweet_clf'] = data['tweet_clf'].apply(lambda x: replace_slang(x, acronym_map))\n",
    "data['tweet_clf'] = data['tweet_clf'].apply(lambda x: stemming(x, stemmer))"
   ]
  },
  {
   "cell_type": "code",
   "execution_count": null,
   "metadata": {},
   "outputs": [],
   "source": []
  },
  {
   "cell_type": "code",
   "execution_count": 27,
   "metadata": {},
   "outputs": [],
   "source": [
    "data['tweet_ner'] = data['tweet'].apply(lambda x: clean_text_ner(x))\n",
    "data['tweet_ner'] = data['tweet_ner'].apply(lambda x: replace_slang(x, acronym_map))"
   ]
  },
  {
   "cell_type": "code",
   "execution_count": null,
   "metadata": {},
   "outputs": [],
   "source": []
  },
  {
   "cell_type": "code",
   "execution_count": 34,
   "metadata": {},
   "outputs": [
    {
     "data": {
      "text/html": [
       "<div>\n",
       "<style>\n",
       "    .dataframe thead tr:only-child th {\n",
       "        text-align: right;\n",
       "    }\n",
       "\n",
       "    .dataframe thead th {\n",
       "        text-align: left;\n",
       "    }\n",
       "\n",
       "    .dataframe tbody tr th {\n",
       "        vertical-align: top;\n",
       "    }\n",
       "</style>\n",
       "<table border=\"1\" class=\"dataframe\">\n",
       "  <thead>\n",
       "    <tr style=\"text-align: right;\">\n",
       "      <th></th>\n",
       "      <th>user_id</th>\n",
       "      <th>tweet</th>\n",
       "      <th>label</th>\n",
       "      <th>tweet_clf</th>\n",
       "      <th>tweet_ner</th>\n",
       "    </tr>\n",
       "  </thead>\n",
       "  <tbody>\n",
       "    <tr>\n",
       "      <th>0</th>\n",
       "      <td>66378098</td>\n",
       "      <td>[HARI PEREMPUAN INTERNASIONAL]\\n\\nHari Perempu...</td>\n",
       "      <td>0</td>\n",
       "      <td>hari perempuan internasional hari perempuan in...</td>\n",
       "      <td>[HARI PEREMPUAN INTERNASIONAL] Hari Perempuan ...</td>\n",
       "    </tr>\n",
       "    <tr>\n",
       "      <th>1</th>\n",
       "      <td>66378098</td>\n",
       "      <td>Himasika mengucapkan selamat hari raya idul Ad...</td>\n",
       "      <td>0</td>\n",
       "      <td>himasika ucap selamat hari raya idul adha 1436...</td>\n",
       "      <td>Himasika mengucapkan selamat hari raya idul Ad...</td>\n",
       "    </tr>\n",
       "    <tr>\n",
       "      <th>2</th>\n",
       "      <td>66378098</td>\n",
       "      <td>[COMING SOON]\\n\\nHalo mahasiswa fisika!\\nMusya...</td>\n",
       "      <td>0</td>\n",
       "      <td>coming soon halo mahasiswa fisika musyawarah a...</td>\n",
       "      <td>[COMING SOON] Halo mahasiswa fisika! Musyawara...</td>\n",
       "    </tr>\n",
       "    <tr>\n",
       "      <th>3</th>\n",
       "      <td>66378098</td>\n",
       "      <td>[PENDAFTARAN BMS 2018 DIBUKA]\\n\\nPendaftaran B...</td>\n",
       "      <td>0</td>\n",
       "      <td>daftar bms 2018 buka daftar bms 2018 himasika ...</td>\n",
       "      <td>[PENDAFTARAN BMS 2018 DIBUKA] Pendaftaran BMS ...</td>\n",
       "    </tr>\n",
       "    <tr>\n",
       "      <th>4</th>\n",
       "      <td>66378098</td>\n",
       "      <td>Persiapan hari ke 2 OKKBK Fisika ITS semangat ...</td>\n",
       "      <td>0</td>\n",
       "      <td>siap hari ke 2 okkbk fisika its semangat adek2...</td>\n",
       "      <td>Persiapan hari ke 2 OKKBK Fisika ITS semangat ...</td>\n",
       "    </tr>\n",
       "  </tbody>\n",
       "</table>\n",
       "</div>"
      ],
      "text/plain": [
       "    user_id                                              tweet  label  \\\n",
       "0  66378098  [HARI PEREMPUAN INTERNASIONAL]\\n\\nHari Perempu...      0   \n",
       "1  66378098  Himasika mengucapkan selamat hari raya idul Ad...      0   \n",
       "2  66378098  [COMING SOON]\\n\\nHalo mahasiswa fisika!\\nMusya...      0   \n",
       "3  66378098  [PENDAFTARAN BMS 2018 DIBUKA]\\n\\nPendaftaran B...      0   \n",
       "4  66378098  Persiapan hari ke 2 OKKBK Fisika ITS semangat ...      0   \n",
       "\n",
       "                                           tweet_clf  \\\n",
       "0  hari perempuan internasional hari perempuan in...   \n",
       "1  himasika ucap selamat hari raya idul adha 1436...   \n",
       "2  coming soon halo mahasiswa fisika musyawarah a...   \n",
       "3  daftar bms 2018 buka daftar bms 2018 himasika ...   \n",
       "4  siap hari ke 2 okkbk fisika its semangat adek2...   \n",
       "\n",
       "                                           tweet_ner  \n",
       "0  [HARI PEREMPUAN INTERNASIONAL] Hari Perempuan ...  \n",
       "1  Himasika mengucapkan selamat hari raya idul Ad...  \n",
       "2  [COMING SOON] Halo mahasiswa fisika! Musyawara...  \n",
       "3  [PENDAFTARAN BMS 2018 DIBUKA] Pendaftaran BMS ...  \n",
       "4  Persiapan hari ke 2 OKKBK Fisika ITS semangat ...  "
      ]
     },
     "execution_count": 34,
     "metadata": {},
     "output_type": "execute_result"
    }
   ],
   "source": [
    "data = pd.read_csv(\"dataset/tweet_preprocessed.csv\")\n",
    "data.head()"
   ]
  },
  {
   "cell_type": "code",
   "execution_count": null,
   "metadata": {},
   "outputs": [],
   "source": []
  },
  {
   "cell_type": "code",
   "execution_count": 37,
   "metadata": {},
   "outputs": [],
   "source": [
    "data_x = data['tweet_clf']\n",
    "data_y = data['label']"
   ]
  },
  {
   "cell_type": "code",
   "execution_count": null,
   "metadata": {},
   "outputs": [],
   "source": []
  },
  {
   "cell_type": "code",
   "execution_count": 35,
   "metadata": {},
   "outputs": [],
   "source": [
    "max_words = 3000\n",
    "max_len = 50"
   ]
  },
  {
   "cell_type": "code",
   "execution_count": 38,
   "metadata": {},
   "outputs": [],
   "source": [
    "tok = Tokenizer(num_words=max_words, lower=True)\n",
    "tok.fit_on_texts(data_x)\n",
    "\n",
    "sequences = tok.texts_to_sequences(data_x)\n",
    "sequences_matrix = sequence.pad_sequences(sequences, maxlen=max_len)"
   ]
  },
  {
   "cell_type": "code",
   "execution_count": null,
   "metadata": {},
   "outputs": [],
   "source": []
  },
  {
   "cell_type": "code",
   "execution_count": 40,
   "metadata": {},
   "outputs": [],
   "source": [
    "with open('extra/tokenizer.pickle', 'wb') as handle:\n",
    "    pickle.dump(tok, handle, protocol=pickle.HIGHEST_PROTOCOL)"
   ]
  },
  {
   "cell_type": "code",
   "execution_count": null,
   "metadata": {},
   "outputs": [],
   "source": []
  },
  {
   "cell_type": "code",
   "execution_count": 55,
   "metadata": {},
   "outputs": [],
   "source": [
    "def rnn_model():\n",
    "    model = Sequential()\n",
    "    \n",
    "    model.add(Embedding(max_words, 32, input_length=max_len))\n",
    "    model.add(LSTM(32, return_sequences=True))\n",
    "    model.add(LSTM(64))\n",
    "    \n",
    "    model.add(Dense(64, activation='relu'))\n",
    "    model.add(Dropout(0.5))\n",
    "    model.add(Dense(1, activation='sigmoid'))\n",
    "\n",
    "    print(model.summary())\n",
    "\n",
    "    model.compile(loss='binary_crossentropy', optimizer='adam', metrics = ['accuracy'])\n",
    "\n",
    "    return model"
   ]
  },
  {
   "cell_type": "code",
   "execution_count": 56,
   "metadata": {},
   "outputs": [
    {
     "name": "stdout",
     "output_type": "stream",
     "text": [
      "_________________________________________________________________\n",
      "Layer (type)                 Output Shape              Param #   \n",
      "=================================================================\n",
      "embedding_9 (Embedding)      (None, 50, 32)            96000     \n",
      "_________________________________________________________________\n",
      "lstm_13 (LSTM)               (None, 50, 32)            8320      \n",
      "_________________________________________________________________\n",
      "lstm_14 (LSTM)               (None, 64)                24832     \n",
      "_________________________________________________________________\n",
      "dense_13 (Dense)             (None, 64)                4160      \n",
      "_________________________________________________________________\n",
      "dropout_7 (Dropout)          (None, 64)                0         \n",
      "_________________________________________________________________\n",
      "dense_14 (Dense)             (None, 1)                 65        \n",
      "=================================================================\n",
      "Total params: 133,377\n",
      "Trainable params: 133,377\n",
      "Non-trainable params: 0\n",
      "_________________________________________________________________\n",
      "None\n",
      "Train on 1653 samples, validate on 414 samples\n",
      "Epoch 1/30\n",
      "1653/1653 [==============================] - 4s 2ms/step - loss: 0.6265 - acc: 0.7731 - val_loss: 0.5245 - val_acc: 0.7947\n",
      "\n",
      "Epoch 00001: val_loss improved from inf to 0.52451, saving model to weights-best.h5\n",
      "Epoch 2/30\n",
      "1653/1653 [==============================] - 1s 639us/step - loss: 0.5077 - acc: 0.7828 - val_loss: 0.4863 - val_acc: 0.7947\n",
      "\n",
      "Epoch 00002: val_loss improved from 0.52451 to 0.48632, saving model to weights-best.h5\n",
      "Epoch 3/30\n",
      "1653/1653 [==============================] - 1s 643us/step - loss: 0.4131 - acc: 0.7973 - val_loss: 0.4164 - val_acc: 0.7971\n",
      "\n",
      "Epoch 00003: val_loss improved from 0.48632 to 0.41640, saving model to weights-best.h5\n",
      "Epoch 4/30\n",
      "1653/1653 [==============================] - 1s 665us/step - loss: 0.2288 - acc: 0.9080 - val_loss: 0.4174 - val_acc: 0.8454\n",
      "\n",
      "Epoch 00004: val_loss did not improve from 0.41640\n",
      "Epoch 5/30\n",
      "1653/1653 [==============================] - 1s 794us/step - loss: 0.1311 - acc: 0.9534 - val_loss: 0.6849 - val_acc: 0.8140\n",
      "\n",
      "Epoch 00005: val_loss did not improve from 0.41640\n",
      "Epoch 6/30\n",
      "1653/1653 [==============================] - 1s 801us/step - loss: 0.0902 - acc: 0.9685 - val_loss: 0.5360 - val_acc: 0.8309\n",
      "\n",
      "Epoch 00006: val_loss did not improve from 0.41640\n"
     ]
    }
   ],
   "source": [
    "model = rnn_model()\n",
    "\n",
    "filepath=\"weights-best.h5\"\n",
    "checkpoint = ModelCheckpoint(filepath, monitor='val_loss', verbose=1, save_best_only=True, mode='min')\n",
    "earlystop = EarlyStopping(monitor='val_loss', patience=3)\n",
    "callback = [checkpoint, earlystop]\n",
    "\n",
    "model.fit(sequences_matrix, data_y, \n",
    "          batch_size=100, epochs=30, verbose=1, \n",
    "          validation_split=0.2, \n",
    "          callbacks=callback)\n",
    "\n",
    "model.load_weights(filepath=filepath)"
   ]
  },
  {
   "cell_type": "code",
   "execution_count": 120,
   "metadata": {},
   "outputs": [],
   "source": [
    "test_sequences = tok.texts_to_sequences(X_test)\n",
    "test_sequences_matrix = sequence.pad_sequences(test_sequences, maxlen=max_len)"
   ]
  },
  {
   "cell_type": "code",
   "execution_count": 121,
   "metadata": {},
   "outputs": [
    {
     "name": "stdout",
     "output_type": "stream",
     "text": [
      "517/517 [==============================] - 0s 281us/step\n"
     ]
    }
   ],
   "source": [
    "ans = model.evaluate(test_sequences_matrix, Y_test)"
   ]
  },
  {
   "cell_type": "code",
   "execution_count": 122,
   "metadata": {},
   "outputs": [
    {
     "name": "stdout",
     "output_type": "stream",
     "text": [
      "Test set\n",
      "Loss: 0.533\n",
      "Accuracy: 0.892\n"
     ]
    }
   ],
   "source": [
    "print('Test set\\nLoss: {:0.3f}\\nAccuracy: {:0.3f}'.format(ans[0], ans[1]))"
   ]
  },
  {
   "cell_type": "code",
   "execution_count": 57,
   "metadata": {},
   "outputs": [
    {
     "name": "stdout",
     "output_type": "stream",
     "text": [
      "_________________________________________________________________\n",
      "Layer (type)                 Output Shape              Param #   \n",
      "=================================================================\n",
      "embedding_10 (Embedding)     (None, 50, 32)            96000     \n",
      "_________________________________________________________________\n",
      "lstm_15 (LSTM)               (None, 50, 32)            8320      \n",
      "_________________________________________________________________\n",
      "lstm_16 (LSTM)               (None, 64)                24832     \n",
      "_________________________________________________________________\n",
      "dense_15 (Dense)             (None, 64)                4160      \n",
      "_________________________________________________________________\n",
      "dropout_8 (Dropout)          (None, 64)                0         \n",
      "_________________________________________________________________\n",
      "dense_16 (Dense)             (None, 1)                 65        \n",
      "=================================================================\n",
      "Total params: 133,377\n",
      "Trainable params: 133,377\n",
      "Non-trainable params: 0\n",
      "_________________________________________________________________\n",
      "None\n"
     ]
    }
   ],
   "source": [
    "model = rnn_model()\n",
    "model.load_weights(filepath=filepath)"
   ]
  },
  {
   "cell_type": "code",
   "execution_count": null,
   "metadata": {},
   "outputs": [],
   "source": []
  },
  {
   "cell_type": "code",
   "execution_count": 59,
   "metadata": {},
   "outputs": [],
   "source": [
    "with open('extra/tokenizer.pickle', 'rb') as handle:\n",
    "    tok = pickle.load(handle)"
   ]
  },
  {
   "cell_type": "code",
   "execution_count": 66,
   "metadata": {},
   "outputs": [],
   "source": [
    "test_sequences = tok.texts_to_sequences([\"physicsday ayo masyarakat fisika diri dan suara untuk dukung futsal fisika senin 18 maret 2019 19 30 gor pertamina its blackwolf hitam kerudung hitam 5k\"])\n",
    "test_sequences_matrix = sequence.pad_sequences(test_sequences, maxlen=max_len)"
   ]
  },
  {
   "cell_type": "code",
   "execution_count": 67,
   "metadata": {},
   "outputs": [],
   "source": [
    "y_pred = model.predict_classes(test_sequences_matrix)"
   ]
  },
  {
   "cell_type": "code",
   "execution_count": 74,
   "metadata": {},
   "outputs": [
    {
     "data": {
      "text/plain": [
       "1"
      ]
     },
     "execution_count": 74,
     "metadata": {},
     "output_type": "execute_result"
    }
   ],
   "source": [
    "y_pred[0][0]"
   ]
  },
  {
   "cell_type": "code",
   "execution_count": null,
   "metadata": {},
   "outputs": [],
   "source": []
  },
  {
   "cell_type": "code",
   "execution_count": 68,
   "metadata": {},
   "outputs": [
    {
     "data": {
      "text/plain": [
       "array([[   0,    0,    0,    0,    0,    0,    0,    0,    0,    0,    0,\n",
       "           0,    0,    0,    0,    0,    0,    0,    0,    0,    0,    0,\n",
       "           0,    0,    0, 2903,   63,  260,  389,  107,    4,  712,    7,\n",
       "         373,  597,  389,  259,  150,  230,   25,  160,   78,  390,  439,\n",
       "           2, 2904, 2001, 2905, 2001, 2906]], dtype=int32)"
      ]
     },
     "execution_count": 68,
     "metadata": {},
     "output_type": "execute_result"
    }
   ],
   "source": [
    "test_sequences_matrix"
   ]
  },
  {
   "cell_type": "code",
   "execution_count": 69,
   "metadata": {},
   "outputs": [],
   "source": [
    "y_pred = model.predict_classes(test_sequences_matrix)"
   ]
  },
  {
   "cell_type": "code",
   "execution_count": 70,
   "metadata": {},
   "outputs": [
    {
     "data": {
      "text/plain": [
       "array([[1]], dtype=int32)"
      ]
     },
     "execution_count": 70,
     "metadata": {},
     "output_type": "execute_result"
    }
   ],
   "source": [
    "y_pred"
   ]
  },
  {
   "cell_type": "code",
   "execution_count": 126,
   "metadata": {},
   "outputs": [
    {
     "data": {
      "text/plain": [
       "<matplotlib.axes._subplots.AxesSubplot at 0x7f4d0e9738d0>"
      ]
     },
     "execution_count": 126,
     "metadata": {},
     "output_type": "execute_result"
    },
    {
     "data": {
      "image/png": "[encoded data removed]",
      "text/plain": [
       "<Figure size 432x288 with 2 Axes>"
      ]
     },
     "metadata": {
      "needs_background": "light"
     },
     "output_type": "display_data"
    }
   ],
   "source": [
    "cfm = {'y_pred': y_pred.reshape(517), 'y_true': Y_test.values}\n",
    "cfm_df = pd.DataFrame(cfm)\n",
    "confusion_matrix = pd.crosstab(cfm_df['y_pred'], cfm_df['y_true'], rownames=['Actual'], colnames=['Predicted'])\n",
    "\n",
    "sn.heatmap(confusion_matrix, annot=True)"
   ]
  },
  {
   "cell_type": "code",
   "execution_count": 127,
   "metadata": {},
   "outputs": [],
   "source": [
    "from sklearn.metrics import classification_report"
   ]
  },
  {
   "cell_type": "code",
   "execution_count": 129,
   "metadata": {},
   "outputs": [
    {
     "name": "stdout",
     "output_type": "stream",
     "text": [
      "              precision    recall  f1-score   support\n",
      "\n",
      "   non-event       0.91      0.95      0.93       396\n",
      "       event       0.82      0.69      0.75       121\n",
      "\n",
      "    accuracy                           0.89       517\n",
      "   macro avg       0.87      0.82      0.84       517\n",
      "weighted avg       0.89      0.89      0.89       517\n",
      "\n"
     ]
    }
   ],
   "source": [
    "print(classification_report(Y_test, y_pred, target_names=['non-event', 'event']))"
   ]
  },
  {
   "cell_type": "code",
   "execution_count": null,
   "metadata": {},
   "outputs": [],
   "source": []
  },
  {
   "cell_type": "markdown",
   "metadata": {},
   "source": [
    "#### NER"
   ]
  },
  {
   "cell_type": "code",
   "execution_count": 74,
   "metadata": {},
   "outputs": [],
   "source": [
    "data = pd.read_csv(\"dataset/tweet_preprocessed.csv\")"
   ]
  },
  {
   "cell_type": "code",
   "execution_count": 90,
   "metadata": {},
   "outputs": [],
   "source": [
    "def get_ner_label(text):\n",
    "    text = re.sub(r'\\t.+?\\n', '', text)\n",
    "    \n",
    "    cur_label = re.findall(\"TYPE=\\\"(.+?)\\\">(.+?)<\", text)\n",
    "    dict_label = dict((y, x) for x, y in cur_label)\n",
    "    \n",
    "    \n",
    "    print(dict_label)\n",
    "    \n",
    "    text = ' '.join(re.split('<ENAMEX.+?>|</ENAMEX>| ', text))\n",
    "    data = re.findall(r\"[\\w']+|[!\\\"#$%&\\(\\)*+,-./:;<=>?@\\[\\\\\\]\\^_`\\{\\|\\}~]\", text)\n",
    "\n",
    "    label = []\n",
    "    \n",
    "    for w in data:\n",
    "        if w in dict_label:\n",
    "            if(len(label) > 0 and label[-1][2:] == w):\n",
    "                label.append('I-' + dict_label[w][:3])\n",
    "            else:\n",
    "                label.append('B-' + dict_label[w][:3])\n",
    "        else:\n",
    "            label.append('O')\n",
    "    \n",
    "    return data, label"
   ]
  },
  {
   "cell_type": "code",
   "execution_count": 92,
   "metadata": {},
   "outputs": [
    {
     "name": "stdout",
     "output_type": "stream",
     "text": [
      "{'Timtas Tipikor': 'ORGANIZATION', 'Hendarman Supandji': 'PERSON', 'Kejaksaan Agung': 'ORGANIZATION', 'Kejagung': 'ORGANIZATION', 'Jl Hasanuddin': 'LOCATION', 'Jakarta Selatan': 'LOCATION'}\n"
     ]
    },
    {
     "data": {
      "text/plain": [
       "(['Baik',\n",
       "  'itu',\n",
       "  'pidana',\n",
       "  'umum',\n",
       "  'maupun',\n",
       "  'korupsi',\n",
       "  ',',\n",
       "  '\"',\n",
       "  'ujar',\n",
       "  'Ketua',\n",
       "  'Timtas',\n",
       "  'Tipikor',\n",
       "  'Hendarman',\n",
       "  'Supandji',\n",
       "  'di',\n",
       "  'Kantor',\n",
       "  'Kejaksaan',\n",
       "  'Agung',\n",
       "  '(',\n",
       "  'Kejagung',\n",
       "  ')',\n",
       "  ',',\n",
       "  'Jl',\n",
       "  'Hasanuddin',\n",
       "  ',',\n",
       "  'Jakarta',\n",
       "  'Selatan',\n",
       "  ',',\n",
       "  'Selasa',\n",
       "  '(',\n",
       "  '14',\n",
       "  '/',\n",
       "  '6',\n",
       "  '/',\n",
       "  '2005',\n",
       "  ')',\n",
       "  '.'],\n",
       " ['O',\n",
       "  'O',\n",
       "  'O',\n",
       "  'O',\n",
       "  'O',\n",
       "  'O',\n",
       "  'O',\n",
       "  'O',\n",
       "  'O',\n",
       "  'O',\n",
       "  'O',\n",
       "  'O',\n",
       "  'O',\n",
       "  'O',\n",
       "  'O',\n",
       "  'O',\n",
       "  'O',\n",
       "  'O',\n",
       "  'O',\n",
       "  'B-ORG',\n",
       "  'O',\n",
       "  'O',\n",
       "  'O',\n",
       "  'O',\n",
       "  'O',\n",
       "  'O',\n",
       "  'O',\n",
       "  'O',\n",
       "  'O',\n",
       "  'O',\n",
       "  'O',\n",
       "  'O',\n",
       "  'O',\n",
       "  'O',\n",
       "  'O',\n",
       "  'O',\n",
       "  'O'])"
      ]
     },
     "execution_count": 92,
     "metadata": {},
     "output_type": "execute_result"
    }
   ],
   "source": [
    "get_ner_label(ner_train[24])"
   ]
  },
  {
   "cell_type": "code",
   "execution_count": 76,
   "metadata": {},
   "outputs": [],
   "source": [
    "ner_train = tuple(open(\"ner/training_data.txt\", 'r'))\n",
    "ner_valid = tuple(open(\"ner/testing_data.txt\", 'r'))"
   ]
  },
  {
   "cell_type": "code",
   "execution_count": 77,
   "metadata": {},
   "outputs": [],
   "source": [
    "train_x = []\n",
    "train_y = []\n",
    "valid_x = []\n",
    "valid_y = []"
   ]
  },
  {
   "cell_type": "code",
   "execution_count": 89,
   "metadata": {},
   "outputs": [
    {
     "name": "stdout",
     "output_type": "stream",
     "text": [
      "['Baik', 'itu', 'pidana', 'umum', 'maupun', 'korupsi', ',', '\"', 'ujar', 'Ketua', 'Timtas', 'Tipikor', 'Hendarman', 'Supandji', 'di', 'Kantor', 'Kejaksaan', 'Agung', '(', 'Kejagung', ')', ',', 'Jl', 'Hasanuddin', ',', 'Jakarta', 'Selatan', ',', 'Selasa', '(', '14', '/', '6', '/', '2005', ')', '.']\n",
      "['O', 'O', 'O', 'O', 'O', 'O', 'O', 'O', 'O', 'O', 'O', 'O', 'O', 'O', 'O', 'O', 'O', 'O', 'O', 'B-ORG', 'O', 'O', 'O', 'O', 'O', 'O', 'O', 'O', 'O', 'O', 'O', 'O', 'O', 'O', 'O', 'O', 'O']\n"
     ]
    }
   ],
   "source": [
    "print(train_x[24])\n",
    "print(train_y[24])"
   ]
  },
  {
   "cell_type": "code",
   "execution_count": 81,
   "metadata": {},
   "outputs": [],
   "source": [
    "list_tag = []"
   ]
  },
  {
   "cell_type": "code",
   "execution_count": null,
   "metadata": {},
   "outputs": [],
   "source": []
  },
  {
   "cell_type": "code",
   "execution_count": 82,
   "metadata": {},
   "outputs": [],
   "source": [
    "for x in valid_y:\n",
    "    for y in x:\n",
    "        list_tag.append(y)"
   ]
  },
  {
   "cell_type": "code",
   "execution_count": null,
   "metadata": {},
   "outputs": [],
   "source": []
  },
  {
   "cell_type": "code",
   "execution_count": 83,
   "metadata": {},
   "outputs": [],
   "source": [
    "list_tag = list(set(list_tag))"
   ]
  },
  {
   "cell_type": "code",
   "execution_count": 84,
   "metadata": {},
   "outputs": [
    {
     "data": {
      "text/plain": [
       "['B-LOC', 'B-ORG', 'O', 'B-PER']"
      ]
     },
     "execution_count": 84,
     "metadata": {},
     "output_type": "execute_result"
    }
   ],
   "source": [
    "list_tag"
   ]
  },
  {
   "cell_type": "code",
   "execution_count": null,
   "metadata": {},
   "outputs": [],
   "source": []
  },
  {
   "cell_type": "code",
   "execution_count": 78,
   "metadata": {},
   "outputs": [],
   "source": [
    "for t in ner_train:\n",
    "    x, y = get_ner_label(t)\n",
    "    train_x.append(x)\n",
    "    train_y.append(y)\n",
    "\n",
    "for t in ner_valid:\n",
    "    x, y = get_ner_label(t)\n",
    "    valid_x.append(x)\n",
    "    valid_y.append(y)"
   ]
  },
  {
   "cell_type": "code",
   "execution_count": 79,
   "metadata": {},
   "outputs": [],
   "source": [
    "train_x = np.array(train_x)\n",
    "train_y = np.array(train_y)\n",
    "\n",
    "valid_x = np.array(valid_x)\n",
    "valid_y = np.array(valid_y)"
   ]
  },
  {
   "cell_type": "code",
   "execution_count": null,
   "metadata": {},
   "outputs": [],
   "source": []
  },
  {
   "cell_type": "code",
   "execution_count": 63,
   "metadata": {},
   "outputs": [
    {
     "data": {
      "text/plain": [
       "['O',\n",
       " 'O',\n",
       " 'O',\n",
       " 'O',\n",
       " 'O',\n",
       " 'O',\n",
       " 'O',\n",
       " 'O',\n",
       " 'O',\n",
       " 'O',\n",
       " 'O',\n",
       " 'O',\n",
       " 'O',\n",
       " 'O',\n",
       " 'O',\n",
       " 'O',\n",
       " 'B-ORG',\n",
       " 'O',\n",
       " 'O',\n",
       " 'O',\n",
       " 'O',\n",
       " 'O',\n",
       " 'O',\n",
       " 'O',\n",
       " 'B-ORG',\n",
       " 'O',\n",
       " 'O',\n",
       " 'O',\n",
       " 'O',\n",
       " 'O']"
      ]
     },
     "execution_count": 63,
     "metadata": {},
     "output_type": "execute_result"
    }
   ],
   "source": [
    "train_y[0]"
   ]
  },
  {
   "cell_type": "code",
   "execution_count": null,
   "metadata": {},
   "outputs": [],
   "source": [
    "data[data]"
   ]
  },
  {
   "cell_type": "code",
   "execution_count": 60,
   "metadata": {},
   "outputs": [
    {
     "data": {
      "text/plain": [
       "'physicsday ayo masyarakat fisika diri dan suara untuk dukung futsal fisika senin 18 maret 2019 19 30 gor pertamina its blackwolf hitam kerudung hitam 5k'"
      ]
     },
     "execution_count": 60,
     "metadata": {},
     "output_type": "execute_result"
    }
   ],
   "source": [
    "data[data['label'] == 1]['tweet_clf'].iloc[1]"
   ]
  },
  {
   "cell_type": "code",
   "execution_count": 65,
   "metadata": {},
   "outputs": [
    {
     "name": "stdout",
     "output_type": "stream",
     "text": [
      "Epoch 1/30\n",
      "85/85 [==============================] - 13s 152ms/step - loss: 43.2423\n",
      " - f1: 0.00\n",
      "Epoch 2/30\n",
      "85/85 [==============================] - 9s 105ms/step - loss: 38.9473\n",
      " - f1: 28.16\n",
      "Epoch 3/30\n",
      "85/85 [==============================] - 9s 110ms/step - loss: 36.7616\n",
      " - f1: 45.65\n",
      "Epoch 4/30\n",
      "85/85 [==============================] - 12s 144ms/step - loss: 36.6839\n",
      " - f1: 67.40\n",
      "Epoch 5/30\n",
      "85/85 [==============================] - 11s 131ms/step - loss: 35.9724\n",
      " - f1: 74.45\n",
      "Epoch 6/30\n",
      "85/85 [==============================] - 11s 126ms/step - loss: 33.5540\n",
      " - f1: 75.80\n",
      "Epoch 7/30\n",
      "85/85 [==============================] - 10s 122ms/step - loss: 34.6197\n",
      " - f1: 76.06\n",
      "Epoch 8/30\n",
      "85/85 [==============================] - 13s 152ms/step - loss: 34.5161\n",
      " - f1: 76.70\n",
      "Epoch 9/30\n",
      "85/85 [==============================] - 12s 137ms/step - loss: 34.7273\n",
      " - f1: 74.90\n",
      "Epoch 10/30\n",
      "85/85 [==============================] - 14s 161ms/step - loss: 34.1694\n",
      " - f1: 77.83\n",
      "Epoch 11/30\n",
      "85/85 [==============================] - 12s 145ms/step - loss: 34.7806\n",
      " - f1: 76.30\n",
      "Epoch 12/30\n",
      "85/85 [==============================] - 13s 153ms/step - loss: 34.8558\n",
      " - f1: 78.15\n",
      "Epoch 13/30\n",
      "85/85 [==============================] - 13s 151ms/step - loss: 35.5206\n",
      " - f1: 77.98\n",
      "Epoch 14/30\n",
      "85/85 [==============================] - 13s 148ms/step - loss: 34.6777\n",
      " - f1: 77.93\n",
      "Epoch 15/30\n",
      "85/85 [==============================] - 12s 139ms/step - loss: 34.5035\n",
      " - f1: 77.61\n"
     ]
    }
   ],
   "source": [
    "model = anago.Sequence(char_emb_size=25, word_emb_size=100, char_lstm_units=25,\n",
    "                       word_lstm_units=100, dropout=0.5, char_feature=True, crf=True,\n",
    "                       batch_size=20, optimizer='adam', learning_rate=0.001,lr_decay=0.9,\n",
    "                       clip_gradients=5.0, max_epoch=30, early_stopping=True, patience=3,\n",
    "                       train_embeddings=True, max_checkpoints_to_keep=5, log_dir=None)\n",
    " \n",
    "model.train(train_x, train_y, valid_x, valid_y)\n"
   ]
  },
  {
   "cell_type": "code",
   "execution_count": null,
   "metadata": {},
   "outputs": [],
   "source": []
  },
  {
   "cell_type": "code",
   "execution_count": 66,
   "metadata": {},
   "outputs": [],
   "source": [
    "words = 'Welcome Party UKM Robotika ITS, Kamis 2-10-2014 @Hall Pusat Robotika ITS, ayo datang & ramaikan temen2 anggota baru'\n",
    "words = re.findall(r\"[\\w']+|[!\\\"#$%&\\(\\)*+,-./:;<=>?@\\[\\\\\\]\\^_`\\{\\|\\}~]\", words)"
   ]
  },
  {
   "cell_type": "code",
   "execution_count": 67,
   "metadata": {},
   "outputs": [
    {
     "data": {
      "text/plain": [
       "{'words': ['Welcome',\n",
       "  'Party',\n",
       "  'UKM',\n",
       "  'Robotika',\n",
       "  'ITS',\n",
       "  ',',\n",
       "  'Kamis',\n",
       "  '2',\n",
       "  '-',\n",
       "  '10',\n",
       "  '-',\n",
       "  '2014',\n",
       "  '@',\n",
       "  'Hall',\n",
       "  'Pusat',\n",
       "  'Robotika',\n",
       "  'ITS',\n",
       "  ',',\n",
       "  'ayo',\n",
       "  'datang',\n",
       "  '&',\n",
       "  'ramaikan',\n",
       "  'temen2',\n",
       "  'anggota',\n",
       "  'baru'],\n",
       " 'entities': [{'text': 'ITS',\n",
       "   'type': 'LOC',\n",
       "   'score': 1.0,\n",
       "   'beginOffset': 4,\n",
       "   'endOffset': 5}]}"
      ]
     },
     "execution_count": 67,
     "metadata": {},
     "output_type": "execute_result"
    }
   ],
   "source": [
    "model.analyze(words)"
   ]
  },
  {
   "cell_type": "code",
   "execution_count": 20,
   "metadata": {},
   "outputs": [],
   "source": [
    "import gensim\n",
    " \n",
    "embeddings = gensim.models.Word2Vec.load(\"w2vec_wiki_id_case\")\n",
    "model = anago.Sequence(char_emb_size=50, word_emb_size=400, char_lstm_units=50,\n",
    "                       word_lstm_units=400, dropout=0.5, char_feature=True, crf=True,\n",
    "                       batch_size=20, optimizer='adam', learning_rate=0.001,lr_decay=0.9,\n",
    "                       clip_gradients=5.0, max_epoch=30, early_stopping=True, patience=3,\n",
    "                       train_embeddings=True, max_checkpoints_to_keep=5, log_dir=None, embeddings=embeddings)"
   ]
  },
  {
   "cell_type": "code",
   "execution_count": 21,
   "metadata": {},
   "outputs": [
    {
     "name": "stdout",
     "output_type": "stream",
     "text": [
      "Epoch 1/30\n",
      "85/85 [==============================] - 65s 763ms/step - loss: 40.4386\n",
      " - f1: 50.25\n",
      "Epoch 2/30\n",
      "85/85 [==============================] - 62s 724ms/step - loss: 36.2340\n",
      " - f1: 75.82\n",
      "Epoch 3/30\n",
      "85/85 [==============================] - 62s 731ms/step - loss: 34.2896\n",
      " - f1: 76.59\n",
      "Epoch 4/30\n",
      "85/85 [==============================] - 65s 760ms/step - loss: 35.5978\n",
      " - f1: 77.92\n",
      "Epoch 5/30\n",
      "85/85 [==============================] - 62s 731ms/step - loss: 34.8621\n",
      " - f1: 77.74\n",
      "Epoch 6/30\n",
      "85/85 [==============================] - 58s 677ms/step - loss: 33.1736\n",
      " - f1: 77.62\n",
      "Epoch 7/30\n",
      "85/85 [==============================] - 59s 692ms/step - loss: 35.5635\n",
      " - f1: 77.22\n"
     ]
    }
   ],
   "source": [
    "model.train(train_x, train_y, valid_x, valid_y)"
   ]
  },
  {
   "cell_type": "code",
   "execution_count": 14,
   "metadata": {},
   "outputs": [
    {
     "data": {
      "text/plain": [
       "{'words': ['Welcome',\n",
       "  'Party',\n",
       "  'UKM',\n",
       "  'Robotika',\n",
       "  'ITS',\n",
       "  ',',\n",
       "  'Kamis',\n",
       "  '2',\n",
       "  '-',\n",
       "  '10',\n",
       "  '-',\n",
       "  '2014',\n",
       "  '@',\n",
       "  'Hall',\n",
       "  'Pusat',\n",
       "  'Robotika',\n",
       "  'ITS',\n",
       "  ',',\n",
       "  'ayo',\n",
       "  'datang',\n",
       "  '&',\n",
       "  'ramaikan',\n",
       "  'temen2',\n",
       "  'anggota',\n",
       "  'baru'],\n",
       " 'entities': []}"
      ]
     },
     "execution_count": 14,
     "metadata": {},
     "output_type": "execute_result"
    }
   ],
   "source": [
    "model.analyze(words)"
   ]
  },
  {
   "cell_type": "code",
   "execution_count": null,
   "metadata": {},
   "outputs": [],
   "source": []
  },
  {
   "cell_type": "code",
   "execution_count": 17,
   "metadata": {},
   "outputs": [],
   "source": [
    "embeddings = gensim.models.KeyedVectors.load_word2vec_format(\"w2vec_glove_wiki_id.txt\")\n",
    "model = anago.Sequence(char_emb_size=25, word_emb_size=50, char_lstm_units=25,\n",
    "                       word_lstm_units=50, dropout=0.5, char_feature=True, crf=True,\n",
    "                       batch_size=20, optimizer='adam', learning_rate=0.001,lr_decay=0.9,\n",
    "                       clip_gradients=5.0, max_epoch=30, early_stopping=True, patience=3,\n",
    "                       train_embeddings=True, max_checkpoints_to_keep=5, log_dir=None, embeddings=embeddings)"
   ]
  },
  {
   "cell_type": "code",
   "execution_count": 18,
   "metadata": {},
   "outputs": [
    {
     "name": "stdout",
     "output_type": "stream",
     "text": [
      "Epoch 1/30\n",
      "85/85 [==============================] - 13s 154ms/step - loss: 42.6788\n",
      " - f1: 0.00\n",
      "Epoch 2/30\n",
      "85/85 [==============================] - 9s 108ms/step - loss: 39.7868\n",
      " - f1: 5.86\n",
      "Epoch 3/30\n",
      "85/85 [==============================] - 12s 137ms/step - loss: 38.7313\n",
      " - f1: 32.09\n",
      "Epoch 4/30\n",
      "85/85 [==============================] - 9s 111ms/step - loss: 36.7381\n",
      " - f1: 56.82\n",
      "Epoch 5/30\n",
      "85/85 [==============================] - 10s 112ms/step - loss: 37.0301\n",
      " - f1: 59.21\n",
      "Epoch 6/30\n",
      "85/85 [==============================] - 9s 111ms/step - loss: 37.3725\n",
      " - f1: 72.03\n",
      "Epoch 7/30\n",
      "85/85 [==============================] - 12s 136ms/step - loss: 37.5831\n",
      " - f1: 71.27\n",
      "Epoch 8/30\n",
      "85/85 [==============================] - 10s 115ms/step - loss: 36.5990\n",
      " - f1: 77.69\n",
      "Epoch 9/30\n",
      "85/85 [==============================] - 10s 112ms/step - loss: 36.3398\n",
      " - f1: 77.06\n",
      "Epoch 10/30\n",
      "85/85 [==============================] - 10s 119ms/step - loss: 34.9243\n",
      " - f1: 81.32\n",
      "Epoch 11/30\n",
      "85/85 [==============================] - 10s 123ms/step - loss: 35.6065\n",
      " - f1: 78.84\n",
      "Epoch 12/30\n",
      "85/85 [==============================] - 11s 134ms/step - loss: 36.1787\n",
      " - f1: 79.25\n",
      "Epoch 13/30\n",
      "85/85 [==============================] - 10s 114ms/step - loss: 34.5958\n",
      " - f1: 80.40\n"
     ]
    }
   ],
   "source": [
    "model.train(train_x, train_y, valid_x, valid_y)"
   ]
  },
  {
   "cell_type": "code",
   "execution_count": 19,
   "metadata": {},
   "outputs": [
    {
     "data": {
      "text/plain": [
       "{'words': ['Welcome',\n",
       "  'Party',\n",
       "  'UKM',\n",
       "  'Robotika',\n",
       "  'ITS',\n",
       "  ',',\n",
       "  'Kamis',\n",
       "  '2',\n",
       "  '-',\n",
       "  '10',\n",
       "  '-',\n",
       "  '2014',\n",
       "  '@',\n",
       "  'Hall',\n",
       "  'Pusat',\n",
       "  'Robotika',\n",
       "  'ITS',\n",
       "  ',',\n",
       "  'ayo',\n",
       "  'datang',\n",
       "  '&',\n",
       "  'ramaikan',\n",
       "  'temen2',\n",
       "  'anggota',\n",
       "  'baru'],\n",
       " 'entities': []}"
      ]
     },
     "execution_count": 19,
     "metadata": {},
     "output_type": "execute_result"
    }
   ],
   "source": [
    "model.analyze(words)"
   ]
  },
  {
   "cell_type": "code",
   "execution_count": null,
   "metadata": {},
   "outputs": [],
   "source": []
  },
  {
   "cell_type": "code",
   "execution_count": null,
   "metadata": {},
   "outputs": [],
   "source": []
  },
  {
   "cell_type": "code",
   "execution_count": null,
   "metadata": {},
   "outputs": [],
   "source": []
  },
  {
   "cell_type": "code",
   "execution_count": 1,
   "metadata": {},
   "outputs": [],
   "source": [
    "from bs4 import BeautifulSoup"
   ]
  },
  {
   "cell_type": "code",
   "execution_count": 2,
   "metadata": {},
   "outputs": [],
   "source": [
    "with open(\"extra/map.osm\") as fp:\n",
    "    soup = BeautifulSoup(fp)"
   ]
  },
  {
   "cell_type": "code",
   "execution_count": 7,
   "metadata": {},
   "outputs": [
    {
     "name": "stdout",
     "output_type": "stream",
     "text": [
      "Bundaran ITS\n",
      "Bank Mandiri\n",
      "BNI\n",
      "BRI\n",
      "Monumen Titik Nol ITS\n",
      "Parkir Perpustakaan ITS\n",
      "Panjat Dinding ITS\n",
      "PENS\n",
      "Apartemen Puncak Kertajaya\n",
      "kertajaya indah\n",
      "Blok T\n",
      "Sate Kambing & Gulai Keputih\n",
      "Sego Njamoer\n",
      "Jalan Kertajaya Indah Timur XVIII\n",
      "Fotokopi + Print TMB\n",
      "BTS\n",
      "Pondok Pesantren Muhyiddin\n",
      "Masjid Ahmad Yani\n",
      "Masjid Ahmad Yani\n",
      "Mushola An-Nahl\n",
      "Musholah dewa ruci\n",
      "Masjid Bahrul Ulum PPNS\n",
      "Cafetaria Informatika\n",
      "Jalan Kejawan Putih Tambak\n",
      "Jalan KH. Ahmad Dahlan\n",
      "Jl. Teknik Sipil\n",
      "Jalan Teknik Elektro\n",
      "Graha Sepuluh Nopember\n",
      "Perpustakaan ITS\n",
      "taman sipil\n",
      "D3 Mesin\n",
      "Sistem Informasi\n",
      "Mushola SI\n",
      "Gebang Kidul\n",
      "REKTORAT\n",
      "UPT Bahasa\n",
      "Asrama PENS-ITS\n",
      "Asrama PENS-ITS\n",
      "Asrama PENS-ITS\n",
      "Lapangan Futsal Teknik Sipil\n",
      "Parkir mobil dinas\n",
      "Lapangan futsal\n",
      "Gedung D3 (Teknik Mesin, Elektro, Kimia)\n",
      "Kantor Satuan Keamanan Kampus\n",
      "Puskom\n",
      "Lab Bahasa\n",
      "Kimia\n",
      "UPMS\n",
      "Jurusan Arsitektur ITS\n",
      "Masjid Manarul Ilmi\n",
      "SCC\n",
      "BAUK ITS\n",
      "Informatika\n",
      "Gedung Nasdec ITS\n",
      "Lab Pengembangan Teknologi Hidrodinamika\n",
      "Rektorat PPNS\n",
      "Asrama ITS\n",
      "Parkir asrama\n",
      "Despro\n",
      "Asrama ITS\n",
      "GOR ITS\n",
      "Asrama ITS\n",
      "Asrama ITS\n",
      "Biologi\n",
      "UPT Fasor\n",
      "Asrama ITS\n",
      "Musholla\n",
      "Stadion ITS\n",
      "security post\n",
      "Asrama ITS\n",
      "Masjid Ahmad Yani\n",
      "Masjid Jami' Nurul Mu'minin\n",
      "Jalan Teknik Lingkungan\n",
      "Jalan Teknik Arsitektur\n",
      "Jl. Teknik Mesin\n",
      "Jalan Teknik Kimia\n",
      "Kertajaya Indah Regency\n",
      "Kertajaya Indah Regency\n",
      "Kertajaya Indah Regency\n",
      "Lapangan Basket ITS\n",
      "Futsal ITS\n",
      "Jalan Kertajaya Indah Timur XII\n",
      "Lapangan Basket ITS\n",
      "Jalan Teknik Elektro\n",
      "Jalan Teknik Kimia\n",
      "Jalan Teknik Hidrodinamika\n",
      "Jalan Teknik Hidrodinamika\n",
      "Jalan Teknik Kelautan\n",
      "Jalan Teknik Lansekap\n",
      "departemen perencanaan wilayah\n",
      "Teknik Lingkungan\n",
      "Pos SKK Utama\n",
      "Lapangan Futsal Pertamina\n",
      "Gebang Wetan Gang I\n",
      "Gang Gebang Wetan\n",
      "Gang Gebang\n",
      "Gang Roda Sekolahan\n",
      "Gang Roda Sekolahan\n",
      "Jalan Raya ITS\n",
      "Jalan Raya Mulyosari\n",
      "Jalan Raya Mulyosari\n",
      "Jalan Raya Mulyosari\n",
      "Jalan Raya Mulyosari\n",
      "Kertajaya Indah Regency\n",
      "Kertajaya Indah Regency\n",
      "Kertajaya Indah Regency\n",
      "Jalan Gebang Lor\n",
      "Kertajaya Indah Regency\n",
      "Jl. KH. Ahmad Dahlan\n",
      "Jl. KH. Ahmad Dahlan\n",
      "Jalan Wisma Permai IX\n",
      "Jalan Wisma Permai IV\n",
      "Jalan Kertajaya Indah Timur X\n",
      "Jalan Wisma Permai 6\n",
      "Jalan Wisma Permai 8\n",
      "Jalan Kertajaya Indah Timur II\n",
      "Jalan Wisma Permai VII\n",
      "Jalan Kertajaya Indah Timur IX\n",
      "Jalan Wisma Permai II\n",
      "Jalan Dharmahusada Megah Permai I\n",
      "Jalan Kertajaya Indah Timur VIII\n",
      "Jalan Kejawan Putih Indah 7\n",
      "Jalan Raya Laguna Kejawen Putih Timur\n",
      "Jalan Kejawan Putih Indah 5\n",
      "Jalan Kejawan Putih Indah 2\n",
      "Jalan Kalisari Damen\n",
      "Jalan Kejawen Putih Tambak II\n",
      "Jalan Kalisari Damen\n",
      "Jalan Kejawan Putih Indah 8\n",
      "Jalan Keputih Timur\n",
      "Jalan Marina Emas\n",
      "Jalan Marina Emas Selatan X\n",
      "Jalan Marina Emas Selatan XI\n",
      "Keputih Gang IC\n",
      "Jalan Marina Emas Selatan VII\n",
      "Keputih Utara Gang Langgar\n",
      "Jalan Marina Emas Selatan IX\n",
      "Jalan Keputih Gang Buntu\n",
      "Jalan Keputih Perintis Tengah\n",
      "Jalan Keputih Perintis IV\n",
      "Keputih Gang IB\n",
      "Jalan Kejawan Gebang 3\n",
      "Jalan Hidrodinamika\n",
      "Jalan Kejawen Putih Tambak VI\n",
      "Jalan Wisma Permai I\n",
      "Jalan Wisma Permai XII\n",
      "Jalan Wisma Permai III\n",
      "Jalan Wisma Permai\n",
      "Jalan Wisma Permai V\n",
      "Jalan Wisma Permai IX\n",
      "Jalan Wisma Permai XIV\n",
      "Jalan Wisma Permai VII\n",
      "Jalan Wisma Permai\n",
      "Jalan Wisma Permai VIII\n",
      "Jalan Wisma Permai XIII\n",
      "Jalan Wisma Permai VIII\n",
      "Jalan Wisma Permai X\n",
      "Jalan Wisma Permai Tengah\n",
      "Jalan Wisma Permai VI\n",
      "Jalan Wisma Permai XI\n",
      "Jalan Kejawen Putih Tambak 1\n",
      "Danau Asrama ITS\n",
      "Asrama ITS\n",
      "Klinik ITS\n",
      "Jurusan Teknik Perkapalan\n",
      "Teknik Kelautan\n",
      "Laboratorium Energi\n",
      "Gedung Pusat Robotika ITS\n",
      "Teknik Kimia\n",
      "Jurusan Material & Metalurgi\n",
      "Teknik Perkapalan\n",
      "Sistem Perkapalan\n",
      "Jalan Bundaran Robotika ITS\n",
      "Teknik Fisika\n",
      "Teknik Mesin\n",
      "Teknik Elektro ITS\n",
      "Jalan Teknik Industri\n",
      "Statistika\n",
      "Fisika\n",
      "Statistika\n",
      "Matematika\n",
      "Kolam Graha Sepuluh Nopember\n",
      "Tempat Parkir D3\n",
      "Lab Rekayasa Forensik\n",
      "Teknik Multimedia dan Jaringan\n",
      "Tempat Parkir\n",
      "Student Parking Area\n",
      "Red Square\n",
      "Fitsal Field\n",
      "Car Parking Area\n",
      "Jalan Teknik Kimia\n",
      "Keputih Gang I\n",
      "Jalan Kertajaya Indah\n",
      "Jalan Kertajaya Indah\n",
      "Jalan Raya ITS\n",
      "Jalan Kejawan Putih Tambak\n",
      "Jalan Kejawan Putih Tambak\n",
      "Wisma Flamboyan\n",
      "Dharma Wanita ITS\n",
      "Parkir FMIPA\n",
      "Parkir Motor FMIPA\n",
      "Teknik Sipil\n",
      "Gedung Laboratorium Energi\n",
      "LPPM ITS\n",
      "paud geomat\n",
      "Teknik Geomatika ITS\n",
      "Lorong Geomatika\n",
      "Selasar\n",
      "Gedung Robotika ITS\n",
      "Arsitektur\n",
      "Teknik Sipil\n",
      "gazebo arsitektur\n",
      "Lorong Perpus FTK UPMS\n",
      "Teknik Sipil\n",
      "Kolam Rektorat / Air Mancur Rektorat\n",
      "Keputih Utara Gang Langgar\n",
      "Jembatan Shiratal Mustaqim\n",
      "Kali Keputih\n",
      "sekretariat JMMI TPKI ITS\n",
      "Jurusan Teknik Sipil\n",
      "Jurusan Teknik Sipil\n",
      "Jurusan Teknik Sipil\n",
      "Jalan Kejawan Gebang 2\n",
      "Jalan Keputih Perintis V\n",
      "Kwik Print\n",
      "Danau\n",
      "Booms Futsal\n",
      "PAUD Mawar\n",
      "Pondok Pesantren Muhyiddin\n",
      "Gedung Pusat Riset ITS\n",
      "Parkir FTK\n",
      "Gedung UPMB dan Pascasarjana\n",
      "Biologi FMIPA ITS\n",
      "Biologi FMIPA ITS\n",
      "Gedung Teater A\n",
      "Lapangan Futsal Elektro\n",
      "Biologi ITS\n",
      "Danau Statistika\n",
      "Parkir Mobil Masjin Manarul Ilmi\n",
      "Parkir Motor Masjid Manarul Ilmi ITS\n",
      "Raman BAAK-ITS\n",
      "Taman Alumni ITS\n",
      "Taman Perkapalan\n",
      "Taman Segitiga ITS\n",
      "Taman Statistika\n",
      "Theater B\n",
      "Theater C\n",
      "Lapangan Perpustakaan ITS\n",
      "Parkir Mobil Belakang Rektorat\n",
      "Parkir Motor BAAK\n",
      "Parkir Mobil Jurusan Arsitektur\n",
      "Kolam Jurusan Manajemen Bisnis\n",
      "Kolam SCC\n",
      "Lapangan Tenis ITS\n",
      "Lapangan Tenis ITS\n",
      "Lapangan Voli ITS\n",
      "Parkiran Pertamina\n",
      "Kantin Pusat ITS\n",
      "Tribun Stadion ITS\n",
      "Jalan Wisma Permai 5\n",
      "Taman Benzena\n",
      "Institut Teknologi Sepuluh Nopember\n",
      "Jalan Grand Peninsula Park Blok AC\n",
      "Danau 8 ITS\n",
      "Urban And Regional Planning Parking Lot\n",
      "Pondok Pesantren Darul Hijrah\n",
      "Zuper Futsal\n",
      "Masjid Hidayatullah\n",
      "Masjid Asqhal Madinah\n",
      "Pemakaman Umum Kelurahan Gebang Putih\n",
      "anfal\n",
      "Jalan Kejawan Putih BMA\n",
      "Jalan Kejawan Putih BMA\n",
      "Jalan Kejawan Gebang VI\n",
      "Lapangan Tenis Wisma Permai\n",
      "Jalan Kejawan Putih Indah 6\n",
      "Jalan Kejawan Putih Indah 12\n",
      "Jalan Kejawan Putih Indah 4\n",
      "Jalan Kejawen Putih Tambak 7\n",
      "Jalan Kejawan Putih Tambak\n",
      "Masjid Baitur Rouf\n",
      "Langgar Wakaf Al-Hidayah\n",
      "Kertajaya Indah Regency\n",
      "Kertajaya Indah Regency\n",
      "Kertajaya Indah Regency\n",
      "Masjid Masyithoh\n",
      "Jalan Wisma Permai Tengah I\n",
      "Jalan Raya Laguna Kejawen Putih Timur\n",
      "Jalan Kejawan Putih Tambak\n",
      "Gang Puskesmas\n",
      "SD Mabadiul Ulum\n",
      "Masjid Assyafi'iyah\n",
      "Gang Gebang Kidul\n",
      "Sekolah Dasar Kristen Kristus Raja\n",
      "VibrasticLab\n",
      "Jalan Wisma Permai III\n",
      "SD Luqman Al Hakim\n",
      "Sekolah Tinggi Agama Islam Luqman Al Hakim\n",
      "Jalan Kejawen Putih Tambak 7\n",
      "Jalan Kejawen Putih Tambak Baru\n",
      "SMP-SMA Luqman Al Hakim\n",
      "Luqman Al Hakim\n",
      "Jalan Kejawen Putih Tambak 6\n",
      "TKA dan TPA Baitul Muttaqin\n",
      "Balai RW 3 Kalisari Damen\n",
      "Masjid An Nur\n",
      "Fakultas MIPA ITS\n",
      "Rumah Pompa Kejawen\n",
      "Danau Elektro\n",
      "Jalan Kejawan Putih Tambak\n",
      "Jalan Kejawan Putih Tambak\n",
      "Jalan Kejawan Putih Tambak\n",
      "Jalan Kejawan Putih Tambak\n",
      "Rumah Pompa\n",
      "Kertajaya Indah Regency\n",
      "Keputih Utara Gang Langgar\n",
      "Jalan Tegal Mulyorejo Baru\n",
      "Jalan Teknik Arsitektur\n",
      "Jalan Teknik Lansekap\n",
      "Jalan Teknik Lansekap\n",
      "Jl. Teknik Mesin\n",
      "Jalan Teknik Mesin\n",
      "Jalan Kejawan Putih Tambak\n",
      "Jalan Kejawan Putih Tambak\n",
      "Jalan Tegal Mulyorejo Baru\n",
      "Jalan Tegal Mulyorejo Baru\n",
      "Kantor Kelurahan Kejawen Putih Tambak\n",
      "SD Negeri Kejawen Putih 1\n",
      "Kantor Pos Sukolilo\n",
      "Lab-lab TF\n",
      "Taman Teknik Fisika\n",
      "Jl. Teknik Mesin\n",
      "Jl. Teknik Mesin\n",
      "Jalan Teknik Elektro\n",
      "Jalan Teknik Elektro\n",
      "Jalan Teknik Mesin\n",
      "Jalan Teknik Mesin\n",
      "Jalan Teknik Kimia\n",
      "Jalan Teknik Kimia\n",
      "Jalan Teknik Industri\n",
      "Jalan Teknik Industri\n",
      "Teknik Industri\n",
      "Jl. Teknik Mesin\n",
      "Jl. Teknik Mesin\n",
      "Jalan Keputih Timur\n",
      "Jalan Keputih Timur\n",
      "Jalan Keputih Timur\n",
      "Jalan KH. Ahmad Dahlan\n",
      "Jl. Teknik Mesin\n",
      "Jalan Teknik Kimia\n",
      "Jalan Teknik Elektro\n",
      "Jalan Teknik Elektro\n",
      "Jalan Teknik Kimia\n",
      "Jl. Teknik Mesin\n",
      "Jalan Teknik Elektro\n",
      "Jalan Teknik Kimia\n",
      "Jalan Kejawan Putih Tambak\n",
      "lapangan pwk\n",
      "Pakuwon City\n",
      "Wisma Permai\n",
      "Dharmahusada Mas\n",
      "Grand Peninsula Park\n",
      "Kertajaya Indah Regency\n",
      "Pondok Pesantren Hidayatullah\n",
      "Jl. Teknik Mesin\n",
      "Jalan Hidrodinamika\n",
      "Jalan Teknik Hidrodinamika\n",
      "Jalan Teknik Hidrodinamika\n",
      "Jalan Teknik Kimia\n",
      "Jalan Teknik Kimia\n",
      "Jalan Teknik Elektro\n",
      "Politeknik Elektronika Negeri Surabaya\n",
      "Jalan Sutorejo Barat\n",
      "Kertajaya Indah Regency\n",
      "Jalan Raya Mulyosari\n",
      "Jalan Raya Mulyosari\n",
      "Jalan Wisma Permai 5\n",
      "Jalan Wisma Permai 5\n",
      "Jalan Wisma Permai Tengah I\n",
      "Jalan Wisma Permai Tengah I\n",
      "Jalan Marina Emas Selatan VIII\n",
      "Jalan Teknik Elektro\n",
      "Jalan Kejawan Putih Tambak\n",
      "Jalan Kejawan Putih Tambak\n",
      "Sukolilo\n",
      "RW 06\n",
      "Kejawen Putih Tambak\n",
      "Mulyorejo\n",
      "RW 01\n",
      "Gebang Putih\n",
      "RW 03\n",
      "Institut Teknologi Sepuluh Nopember\n",
      "RW 05\n",
      "RW 05\n",
      "RW 02\n",
      "RW 01\n",
      "Keputih\n",
      "Mulyorejo\n",
      "RW 03\n",
      "RW 02\n",
      "Kalisari\n",
      "RW 04\n",
      "RW 04\n",
      "RW 06\n",
      "RW 07\n",
      "RW 03\n",
      "RW 04\n",
      "RW 06\n",
      "RW 01\n",
      "RW 02\n",
      "RW 03\n",
      "Danau Informatika\n",
      "BS (ITS => Unesa)\n",
      "BS (Unesa => ITS)\n",
      "Bus Suroboyo (Barat-Timur)\n"
     ]
    }
   ],
   "source": [
    "tags = soup.findAll('tag')\n",
    "\n",
    "for tag in tags:\n",
    "    if str(tag['k']) == 'name':\n",
    "        print(str(tag['v']))"
   ]
  },
  {
   "cell_type": "code",
   "execution_count": 22,
   "metadata": {},
   "outputs": [],
   "source": [
    "places = []"
   ]
  },
  {
   "cell_type": "code",
   "execution_count": 23,
   "metadata": {},
   "outputs": [],
   "source": [
    "with open('extra/Gazetteer.txt') as f:\n",
    "    lines = f.readlines()\n",
    "    for line in lines:\n",
    "        places.append(line[:-1])"
   ]
  },
  {
   "cell_type": "code",
   "execution_count": 26,
   "metadata": {},
   "outputs": [],
   "source": [
    "places = list(set(places))"
   ]
  },
  {
   "cell_type": "code",
   "execution_count": 27,
   "metadata": {},
   "outputs": [
    {
     "data": {
      "text/plain": [
       "292"
      ]
     },
     "execution_count": 27,
     "metadata": {},
     "output_type": "execute_result"
    }
   ],
   "source": [
    "len(places)"
   ]
  },
  {
   "cell_type": "code",
   "execution_count": 28,
   "metadata": {},
   "outputs": [],
   "source": [
    "with open(\"Gazetteer.txt\", \"w\") as f:\n",
    "    for p in places:\n",
    "        f.write(p + '\\n')"
   ]
  },
  {
   "cell_type": "code",
   "execution_count": null,
   "metadata": {},
   "outputs": [],
   "source": []
  }
 ],
 "metadata": {
  "kernelspec": {
   "display_name": "Python 3",
   "language": "python",
   "name": "python3"
  },
  "language_info": {
   "codemirror_mode": {
    "name": "ipython",
    "version": 3
   },
   "file_extension": ".py",
   "mimetype": "text/x-python",
   "name": "python",
   "nbconvert_exporter": "python",
   "pygments_lexer": "ipython3",
   "version": "3.6.1"
  }
 },
 "nbformat": 4,
 "nbformat_minor": 2
}
