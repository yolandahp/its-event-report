{
 "cells": [
  {
   "cell_type": "code",
   "execution_count": 2,
   "metadata": {},
   "outputs": [],
   "source": [
    "import numpy as np\n",
    "import pandas as pd\n",
    "\n",
    "import re\n",
    "import html\n",
    "import json\n",
    "\n",
    "import nltk\n",
    "import anago\n",
    "\n",
    "from Sastrawi.Stemmer.StemmerFactory import StemmerFactory\n",
    "\n",
    "from sklearn.model_selection import train_test_split\n",
    "from keras.preprocessing.text import Tokenizer\n",
    "from keras.preprocessing import sequence\n",
    "\n",
    "from keras.models import Sequential\n",
    "from keras.layers import LSTM, GRU, Activation, Dense, Dropout, Input, Embedding, MaxPooling1D\n",
    "from keras.optimizers import RMSprop\n",
    "from keras.callbacks import EarlyStopping\n",
    "\n",
    "import seaborn as sn"
   ]
  },
  {
   "cell_type": "code",
   "execution_count": 78,
   "metadata": {},
   "outputs": [],
   "source": [
    "def get_ner_label(text):\n",
    "    text = re.sub(r'\\t.+?\\n', '', text)\n",
    "    \n",
    "    cur_label = re.findall(\"TYPE=\\\"(.+?)\\\">(.+?)<\", text)\n",
    "    dict_label = dict((y, x) for x, y in cur_label)\n",
    "    \n",
    "    new_dict = {}\n",
    "    for x in dict_label:\n",
    "        token = x.split(' ')\n",
    "        for tok in token:\n",
    "            if tok not in new_dict:\n",
    "                new_dict[tok] = dict_label[x]\n",
    "    \n",
    "    text = ' '.join(re.split('<ENAMEX.+?>|</ENAMEX>| ', text))\n",
    "    data = re.findall(r\"[\\w']+|[!\\\"#$%&\\(\\)*+,-./:;<=>?@\\[\\\\\\]\\^_`\\{\\|\\}~]\", text)\n",
    "\n",
    "    label = []\n",
    "    \n",
    "    for w in data:\n",
    "        if w in new_dict:\n",
    "            if(len(label) > 0 and label[-1][2:] == new_dict[w][:3]):\n",
    "                label.append('I-' + new_dict[w][:3])\n",
    "            else:\n",
    "                label.append('B-' + new_dict[w][:3])\n",
    "        else:\n",
    "            label.append('O')\n",
    "    \n",
    "    return data, label"
   ]
  },
  {
   "cell_type": "code",
   "execution_count": null,
   "metadata": {},
   "outputs": [],
   "source": []
  },
  {
   "cell_type": "code",
   "execution_count": null,
   "metadata": {},
   "outputs": [],
   "source": []
  },
  {
   "cell_type": "code",
   "execution_count": null,
   "metadata": {},
   "outputs": [],
   "source": []
  },
  {
   "cell_type": "code",
   "execution_count": 55,
   "metadata": {},
   "outputs": [],
   "source": [
    "ner_train = tuple(open(\"ner/training_data.txt\", 'r'))\n",
    "ner_valid = tuple(open(\"ner/testing_data.txt\", 'r'))"
   ]
  },
  {
   "cell_type": "code",
   "execution_count": 58,
   "metadata": {},
   "outputs": [],
   "source": [
    "train_x = []\n",
    "train_y = []\n",
    "valid_x = []\n",
    "valid_y = []"
   ]
  },
  {
   "cell_type": "code",
   "execution_count": 59,
   "metadata": {},
   "outputs": [],
   "source": [
    "for t in ner_train:\n",
    "    x, y = get_ner_label(t)\n",
    "    train_x.append(x)\n",
    "    train_y.append(y)\n",
    "\n",
    "for t in ner_valid:\n",
    "    x, y = get_ner_label(t)\n",
    "    valid_x.append(x)\n",
    "    valid_y.append(y)"
   ]
  },
  {
   "cell_type": "code",
   "execution_count": 60,
   "metadata": {},
   "outputs": [],
   "source": [
    "train_x = np.array(train_x)\n",
    "train_y = np.array(train_y)\n",
    "\n",
    "valid_x = np.array(valid_x)\n",
    "valid_y = np.array(valid_y)"
   ]
  },
  {
   "cell_type": "code",
   "execution_count": 61,
   "metadata": {},
   "outputs": [
    {
     "name": "stdout",
     "output_type": "stream",
     "text": [
      "Epoch 1/30\n",
      "85/85 [==============================] - 12s 136ms/step - loss: 63.8293\n",
      " - f1: 0.18\n",
      "Epoch 2/30\n",
      "85/85 [==============================] - 9s 108ms/step - loss: 52.0646\n",
      " - f1: 15.35\n",
      "Epoch 3/30\n",
      "85/85 [==============================] - 11s 129ms/step - loss: 49.7169\n",
      " - f1: 48.82\n",
      "Epoch 4/30\n",
      "85/85 [==============================] - 10s 119ms/step - loss: 47.7061\n",
      " - f1: 63.00\n",
      "Epoch 5/30\n",
      "85/85 [==============================] - 10s 117ms/step - loss: 47.0877\n",
      " - f1: 65.12\n",
      "Epoch 6/30\n",
      "85/85 [==============================] - 10s 118ms/step - loss: 47.2456\n",
      " - f1: 69.07\n",
      "Epoch 7/30\n",
      "85/85 [==============================] - 10s 118ms/step - loss: 45.7263\n",
      " - f1: 71.40\n",
      "Epoch 8/30\n",
      "85/85 [==============================] - 10s 117ms/step - loss: 45.4644\n",
      " - f1: 67.77\n",
      "Epoch 9/30\n",
      "85/85 [==============================] - 12s 145ms/step - loss: 45.0875\n",
      " - f1: 71.73\n",
      "Epoch 10/30\n",
      "85/85 [==============================] - 10s 120ms/step - loss: 44.8952\n",
      " - f1: 67.60\n",
      "Epoch 11/30\n",
      "85/85 [==============================] - 12s 145ms/step - loss: 45.4616\n",
      " - f1: 72.14\n",
      "Epoch 12/30\n",
      "85/85 [==============================] - 11s 132ms/step - loss: 44.7603\n",
      " - f1: 69.34\n",
      "Epoch 13/30\n",
      "85/85 [==============================] - 11s 125ms/step - loss: 43.7092\n",
      " - f1: 70.81\n",
      "Epoch 14/30\n",
      "85/85 [==============================] - 12s 147ms/step - loss: 44.4910\n",
      " - f1: 69.29\n"
     ]
    }
   ],
   "source": [
    "model = anago.Sequence(char_emb_size=25, word_emb_size=100, char_lstm_units=25,\n",
    "                       word_lstm_units=100, dropout=0.5, char_feature=True, crf=True,\n",
    "                       batch_size=20, optimizer='adam', learning_rate=0.001,lr_decay=0.9,\n",
    "                       clip_gradients=5.0, max_epoch=30, early_stopping=True, patience=3,\n",
    "                       train_embeddings=True, max_checkpoints_to_keep=5, log_dir=None)\n",
    " \n",
    "model.train(train_x, train_y, valid_x, valid_y)\n"
   ]
  },
  {
   "cell_type": "code",
   "execution_count": 64,
   "metadata": {},
   "outputs": [],
   "source": [
    "words = '[ TOEFL TEST HIMASIKA ITS ] , ✅ Training TOEFL, 📆 Sabtu, 13 April 2019, ⏱ 08.30 - selesai, 📍 J103, ✅ TOEFL TEST, 📆 Senin, 15 April 2018, ⏱ 18.30 - selesai, 📍 UPT Bahasa ITS, 💸 Fee 60k, LIMITED SEAT !!!,  ,  ,  ,  ,  '\n",
    "words = re.findall(r\"[\\w']+|[!\\\"#$%&\\(\\)*+,-./:;<=>?@\\[\\\\\\]\\^_`\\{\\|\\}~]\", words)"
   ]
  },
  {
   "cell_type": "code",
   "execution_count": 65,
   "metadata": {},
   "outputs": [
    {
     "data": {
      "text/plain": [
       "{'words': ['[',\n",
       "  'TOEFL',\n",
       "  'TEST',\n",
       "  'HIMASIKA',\n",
       "  'ITS',\n",
       "  ']',\n",
       "  ',',\n",
       "  'Training',\n",
       "  'TOEFL',\n",
       "  ',',\n",
       "  'Sabtu',\n",
       "  ',',\n",
       "  '13',\n",
       "  'April',\n",
       "  '2019',\n",
       "  ',',\n",
       "  '08',\n",
       "  '.',\n",
       "  '30',\n",
       "  '-',\n",
       "  'selesai',\n",
       "  ',',\n",
       "  'J103',\n",
       "  ',',\n",
       "  'TOEFL',\n",
       "  'TEST',\n",
       "  ',',\n",
       "  'Senin',\n",
       "  ',',\n",
       "  '15',\n",
       "  'April',\n",
       "  '2018',\n",
       "  ',',\n",
       "  '18',\n",
       "  '.',\n",
       "  '30',\n",
       "  '-',\n",
       "  'selesai',\n",
       "  ',',\n",
       "  'UPT',\n",
       "  'Bahasa',\n",
       "  'ITS',\n",
       "  ',',\n",
       "  'Fee',\n",
       "  '60k',\n",
       "  ',',\n",
       "  'LIMITED',\n",
       "  'SEAT',\n",
       "  '!',\n",
       "  '!',\n",
       "  '!',\n",
       "  ',',\n",
       "  ',',\n",
       "  ',',\n",
       "  ',',\n",
       "  ','],\n",
       " 'entities': [{'text': 'TOEFL TEST HIMASIKA',\n",
       "   'type': 'ORG',\n",
       "   'score': 1.0,\n",
       "   'beginOffset': 1,\n",
       "   'endOffset': 4},\n",
       "  {'text': 'TOEFL TEST',\n",
       "   'type': 'PER',\n",
       "   'score': 1.0,\n",
       "   'beginOffset': 24,\n",
       "   'endOffset': 26},\n",
       "  {'text': 'UPT Bahasa',\n",
       "   'type': 'ORG',\n",
       "   'score': 1.0,\n",
       "   'beginOffset': 39,\n",
       "   'endOffset': 41},\n",
       "  {'text': 'LIMITED SEAT',\n",
       "   'type': 'ORG',\n",
       "   'score': 1.0,\n",
       "   'beginOffset': 46,\n",
       "   'endOffset': 48}]}"
      ]
     },
     "execution_count": 65,
     "metadata": {},
     "output_type": "execute_result"
    }
   ],
   "source": [
    "model.analyze(words)"
   ]
  },
  {
   "cell_type": "code",
   "execution_count": null,
   "metadata": {},
   "outputs": [],
   "source": []
  }
 ],
 "metadata": {
  "kernelspec": {
   "display_name": "Python 3",
   "language": "python",
   "name": "python3"
  },
  "language_info": {
   "codemirror_mode": {
    "name": "ipython",
    "version": 3
   },
   "file_extension": ".py",
   "mimetype": "text/x-python",
   "name": "python",
   "nbconvert_exporter": "python",
   "pygments_lexer": "ipython3",
   "version": "3.6.1"
  }
 },
 "nbformat": 4,
 "nbformat_minor": 2
}
