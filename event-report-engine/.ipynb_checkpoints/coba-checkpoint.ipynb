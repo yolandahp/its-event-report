{
 "cells": [
  {
   "cell_type": "code",
   "execution_count": 2,
   "metadata": {},
   "outputs": [],
   "source": [
    "import numpy as np\n",
    "import pandas as pd\n",
    "\n",
    "import re\n",
    "import html\n",
    "import json\n",
    "\n",
    "import nltk\n",
    "import anago\n",
    "\n",
    "from Sastrawi.Stemmer.StemmerFactory import StemmerFactory\n",
    "\n",
    "from sklearn.model_selection import train_test_split\n",
    "from keras.preprocessing.text import Tokenizer\n",
    "from keras.preprocessing import sequence\n",
    "\n",
    "from keras.models import Sequential\n",
    "from keras.layers import LSTM, GRU, Activation, Dense, Dropout, Input, Embedding, MaxPooling1D\n",
    "from keras.optimizers import RMSprop\n",
    "from keras.callbacks import EarlyStopping\n",
    "\n",
    "import seaborn as sn"
   ]
  },
  {
   "cell_type": "code",
   "execution_count": 43,
   "metadata": {},
   "outputs": [
    {
     "data": {
      "text/html": [
       "<div>\n",
       "<style>\n",
       "    .dataframe thead tr:only-child th {\n",
       "        text-align: right;\n",
       "    }\n",
       "\n",
       "    .dataframe thead th {\n",
       "        text-align: left;\n",
       "    }\n",
       "\n",
       "    .dataframe tbody tr th {\n",
       "        vertical-align: top;\n",
       "    }\n",
       "</style>\n",
       "<table border=\"1\" class=\"dataframe\">\n",
       "  <thead>\n",
       "    <tr style=\"text-align: right;\">\n",
       "      <th></th>\n",
       "      <th>user_id</th>\n",
       "      <th>tweet</th>\n",
       "      <th>label</th>\n",
       "    </tr>\n",
       "  </thead>\n",
       "  <tbody>\n",
       "    <tr>\n",
       "      <th>0</th>\n",
       "      <td>66378098</td>\n",
       "      <td>[HARI PEREMPUAN INTERNASIONAL]\\n\\nHari Perempu...</td>\n",
       "      <td>0</td>\n",
       "    </tr>\n",
       "    <tr>\n",
       "      <th>1</th>\n",
       "      <td>66378098</td>\n",
       "      <td>Himasika mengucapkan selamat hari raya idul Ad...</td>\n",
       "      <td>0</td>\n",
       "    </tr>\n",
       "    <tr>\n",
       "      <th>2</th>\n",
       "      <td>66378098</td>\n",
       "      <td>[COMING SOON]\\n\\nHalo mahasiswa fisika!\\nMusya...</td>\n",
       "      <td>0</td>\n",
       "    </tr>\n",
       "    <tr>\n",
       "      <th>3</th>\n",
       "      <td>66378098</td>\n",
       "      <td>[PENDAFTARAN BMS 2018 DIBUKA]\\n\\nPendaftaran B...</td>\n",
       "      <td>0</td>\n",
       "    </tr>\n",
       "    <tr>\n",
       "      <th>4</th>\n",
       "      <td>66378098</td>\n",
       "      <td>Persiapan hari ke 2 OKKBK Fisika ITS semangat ...</td>\n",
       "      <td>0</td>\n",
       "    </tr>\n",
       "  </tbody>\n",
       "</table>\n",
       "</div>"
      ],
      "text/plain": [
       "    user_id                                              tweet  label\n",
       "0  66378098  [HARI PEREMPUAN INTERNASIONAL]\\n\\nHari Perempu...      0\n",
       "1  66378098  Himasika mengucapkan selamat hari raya idul Ad...      0\n",
       "2  66378098  [COMING SOON]\\n\\nHalo mahasiswa fisika!\\nMusya...      0\n",
       "3  66378098  [PENDAFTARAN BMS 2018 DIBUKA]\\n\\nPendaftaran B...      0\n",
       "4  66378098  Persiapan hari ke 2 OKKBK Fisika ITS semangat ...      0"
      ]
     },
     "execution_count": 43,
     "metadata": {},
     "output_type": "execute_result"
    }
   ],
   "source": [
    "data = pd.read_csv(\"dataset/tweets.csv\")\n",
    "data.head()"
   ]
  },
  {
   "cell_type": "code",
   "execution_count": 46,
   "metadata": {},
   "outputs": [
    {
     "data": {
      "text/plain": [
       "0    1623\n",
       "1     444\n",
       "Name: label, dtype: int64"
      ]
     },
     "execution_count": 46,
     "metadata": {},
     "output_type": "execute_result"
    }
   ],
   "source": [
    "data['label'].value_counts()"
   ]
  },
  {
   "cell_type": "code",
   "execution_count": null,
   "metadata": {},
   "outputs": [],
   "source": []
  },
  {
   "cell_type": "code",
   "execution_count": 47,
   "metadata": {},
   "outputs": [],
   "source": [
    "def clean_text_classification(text):\n",
    "    text = text.lower()\n",
    "    \n",
    "    text = re.sub(r'@[A-Za-z0-9]+', ' ', text)\n",
    "    text = re.sub(r'#[A-Za-z0-9]+', ' ', text)\n",
    "    text = re.sub(r'\\w+:\\/\\/\\S+', ' ', text)\n",
    "    text = re.sub(r'[^a-zA-Z0-9]', ' ', text)\n",
    "    \n",
    "    text = re.sub(r' +', ' ', text)\n",
    "    \n",
    "    return ' '.join(text.split())"
   ]
  },
  {
   "cell_type": "code",
   "execution_count": 48,
   "metadata": {},
   "outputs": [],
   "source": [
    "def clean_text_ner(text):\n",
    "    \n",
    "    text = html.unescape(text)\n",
    "    text = re.sub(r'#[A-Za-z0-9]+', ' ', text)\n",
    "    text = re.sub(r'\\w+:\\/\\/\\S+', ' ', text)\n",
    "    \n",
    "    text = re.sub(r' +', ' ', text)\n",
    "    \n",
    "    return ' '.join(text.split())"
   ]
  },
  {
   "cell_type": "code",
   "execution_count": 49,
   "metadata": {},
   "outputs": [],
   "source": [
    "def replace_slang(text, acronym):\n",
    "    res = []\n",
    "    \n",
    "    for w in text.split(' '):\n",
    "        if w in acronym:\n",
    "            res.append(acronym[w])\n",
    "        else:\n",
    "            res.append(w)\n",
    "    \n",
    "    return ' '.join(res)"
   ]
  },
  {
   "cell_type": "code",
   "execution_count": 50,
   "metadata": {},
   "outputs": [],
   "source": [
    "def stemming(text, stemmer):\n",
    "    stem_text = stemmer.stem(text)\n",
    "    return stem_text"
   ]
  },
  {
   "cell_type": "code",
   "execution_count": 51,
   "metadata": {},
   "outputs": [],
   "source": [
    "with open(\"extra/akronim.json\", \"r\") as f:    \n",
    "    acronym_map = json.load(f)"
   ]
  },
  {
   "cell_type": "code",
   "execution_count": 52,
   "metadata": {},
   "outputs": [],
   "source": [
    "factory = StemmerFactory()\n",
    "stemmer = factory.create_stemmer()"
   ]
  },
  {
   "cell_type": "code",
   "execution_count": 53,
   "metadata": {},
   "outputs": [],
   "source": [
    "data['tweet_clf'] = data['tweet'].apply(lambda x: clean_text_classification(x))\n",
    "data['tweet_clf'] = data['tweet_clf'].apply(lambda x: replace_slang(x, acronym_map))\n",
    "data['tweet_clf'] = data['tweet_clf'].apply(lambda x: stemming(x, stemmer))"
   ]
  },
  {
   "cell_type": "code",
   "execution_count": null,
   "metadata": {},
   "outputs": [],
   "source": []
  },
  {
   "cell_type": "code",
   "execution_count": 54,
   "metadata": {},
   "outputs": [],
   "source": [
    "data['tweet_ner'] = data['tweet'].apply(lambda x: clean_text_ner(x))\n",
    "data['tweet_ner'] = data['tweet_ner'].apply(lambda x: replace_slang(x, acronym_map))"
   ]
  },
  {
   "cell_type": "code",
   "execution_count": null,
   "metadata": {},
   "outputs": [],
   "source": []
  },
  {
   "cell_type": "code",
   "execution_count": 55,
   "metadata": {},
   "outputs": [],
   "source": [
    "data.to_csv(\"dataset/tweet_preprocessed.csv\", index=False)"
   ]
  },
  {
   "cell_type": "code",
   "execution_count": 116,
   "metadata": {},
   "outputs": [
    {
     "data": {
      "text/plain": [
       "'Sesaat lagi akan ada siaran langsung Puncak Dies Natalis ke-59 di Graha Sepuluh Nopember ITS'"
      ]
     },
     "execution_count": 116,
     "metadata": {},
     "output_type": "execute_result"
    }
   ],
   "source": [
    "data[data['label'] == 1].iloc[43]['tweet_ner']"
   ]
  },
  {
   "cell_type": "code",
   "execution_count": 117,
   "metadata": {},
   "outputs": [
    {
     "data": {
      "text/plain": [
       "'saat lagi akan ada siar langsung puncak dies natalis ke 59 di graha puluh nopember its'"
      ]
     },
     "execution_count": 117,
     "metadata": {},
     "output_type": "execute_result"
    }
   ],
   "source": [
    "data[data['label'] == 1].iloc[43]['tweet_clf']"
   ]
  },
  {
   "cell_type": "code",
   "execution_count": null,
   "metadata": {},
   "outputs": [],
   "source": []
  },
  {
   "cell_type": "code",
   "execution_count": 57,
   "metadata": {},
   "outputs": [],
   "source": [
    "X_train, X_test, Y_train, Y_test = train_test_split(data['tweet_clf'], data['label'], test_size=0.25)"
   ]
  },
  {
   "cell_type": "code",
   "execution_count": 83,
   "metadata": {},
   "outputs": [],
   "source": [
    "max_words = 3000\n",
    "max_len = 50"
   ]
  },
  {
   "cell_type": "code",
   "execution_count": 84,
   "metadata": {},
   "outputs": [],
   "source": [
    "tok = Tokenizer(num_words=max_words, lower=True)\n",
    "tok.fit_on_texts(X_train)\n",
    "\n",
    "sequences = tok.texts_to_sequences(X_train)\n",
    "sequences_matrix = sequence.pad_sequences(sequences, maxlen=max_len)"
   ]
  },
  {
   "cell_type": "code",
   "execution_count": null,
   "metadata": {},
   "outputs": [],
   "source": []
  },
  {
   "cell_type": "code",
   "execution_count": 118,
   "metadata": {},
   "outputs": [],
   "source": [
    "def rnn_model():\n",
    "    model = Sequential()\n",
    "    \n",
    "    model.add(Embedding(max_words, 32, input_length=max_len))\n",
    "    model.add(GRU(32, return_sequences=True))\n",
    "    model.add(GRU(64))\n",
    "    \n",
    "    model.add(Dense(128, activation='relu'))\n",
    "    model.add(Dropout(0.5))\n",
    "    model.add(Dense(1, activation='sigmoid'))\n",
    "\n",
    "    print(model.summary())\n",
    "\n",
    "    model.compile(loss='binary_crossentropy', optimizer='adam', metrics = ['accuracy'])\n",
    "\n",
    "    return model"
   ]
  },
  {
   "cell_type": "code",
   "execution_count": 119,
   "metadata": {},
   "outputs": [
    {
     "name": "stdout",
     "output_type": "stream",
     "text": [
      "_________________________________________________________________\n",
      "Layer (type)                 Output Shape              Param #   \n",
      "=================================================================\n",
      "embedding_12 (Embedding)     (None, 50, 32)            96000     \n",
      "_________________________________________________________________\n",
      "gru_16 (GRU)                 (None, 50, 32)            6240      \n",
      "_________________________________________________________________\n",
      "gru_17 (GRU)                 (None, 64)                18624     \n",
      "_________________________________________________________________\n",
      "dense_21 (Dense)             (None, 128)               8320      \n",
      "_________________________________________________________________\n",
      "dropout_11 (Dropout)         (None, 128)               0         \n",
      "_________________________________________________________________\n",
      "dense_22 (Dense)             (None, 1)                 129       \n",
      "=================================================================\n",
      "Total params: 129,313\n",
      "Trainable params: 129,313\n",
      "Non-trainable params: 0\n",
      "_________________________________________________________________\n",
      "None\n",
      "Train on 1240 samples, validate on 310 samples\n",
      "Epoch 1/30\n",
      "1240/1240 [==============================] - 3s 3ms/step - loss: 0.6659 - acc: 0.7460 - val_loss: 0.6036 - val_acc: 0.7839\n",
      "Epoch 2/30\n",
      "1240/1240 [==============================] - 1s 554us/step - loss: 0.5178 - acc: 0.7935 - val_loss: 0.4998 - val_acc: 0.7839\n",
      "Epoch 3/30\n",
      "1240/1240 [==============================] - 1s 613us/step - loss: 0.4335 - acc: 0.7935 - val_loss: 0.3882 - val_acc: 0.7871\n",
      "Epoch 4/30\n",
      "1240/1240 [==============================] - 1s 573us/step - loss: 0.2685 - acc: 0.8613 - val_loss: 0.2768 - val_acc: 0.9000\n",
      "Epoch 5/30\n",
      "1240/1240 [==============================] - 2s 1ms/step - loss: 0.1337 - acc: 0.9444 - val_loss: 0.3575 - val_acc: 0.8968\n",
      "Epoch 6/30\n",
      "1240/1240 [==============================] - 2s 2ms/step - loss: 0.0707 - acc: 0.9742 - val_loss: 0.3617 - val_acc: 0.9000\n",
      "Epoch 7/30\n",
      "1240/1240 [==============================] - 2s 2ms/step - loss: 0.0422 - acc: 0.9895 - val_loss: 0.4277 - val_acc: 0.9032\n"
     ]
    },
    {
     "data": {
      "text/plain": [
       "<keras.callbacks.History at 0x7f4d0fbf3320>"
      ]
     },
     "execution_count": 119,
     "metadata": {},
     "output_type": "execute_result"
    }
   ],
   "source": [
    "model = rnn_model()\n",
    "model.fit(sequences_matrix, Y_train, \n",
    "          batch_size=100, epochs=30, verbose=1, \n",
    "          validation_split=0.2, \n",
    "          callbacks=[EarlyStopping(monitor='val_loss', patience=3)])"
   ]
  },
  {
   "cell_type": "code",
   "execution_count": 120,
   "metadata": {},
   "outputs": [],
   "source": [
    "test_sequences = tok.texts_to_sequences(X_test)\n",
    "test_sequences_matrix = sequence.pad_sequences(test_sequences, maxlen=max_len)"
   ]
  },
  {
   "cell_type": "code",
   "execution_count": 121,
   "metadata": {},
   "outputs": [
    {
     "name": "stdout",
     "output_type": "stream",
     "text": [
      "517/517 [==============================] - 0s 281us/step\n"
     ]
    }
   ],
   "source": [
    "ans = model.evaluate(test_sequences_matrix, Y_test)"
   ]
  },
  {
   "cell_type": "code",
   "execution_count": 122,
   "metadata": {},
   "outputs": [
    {
     "name": "stdout",
     "output_type": "stream",
     "text": [
      "Test set\n",
      "Loss: 0.533\n",
      "Accuracy: 0.892\n"
     ]
    }
   ],
   "source": [
    "print('Test set\\nLoss: {:0.3f}\\nAccuracy: {:0.3f}'.format(ans[0], ans[1]))"
   ]
  },
  {
   "cell_type": "code",
   "execution_count": 125,
   "metadata": {},
   "outputs": [],
   "source": [
    "y_pred = model.predict_classes(test_sequences_matrix)"
   ]
  },
  {
   "cell_type": "code",
   "execution_count": 126,
   "metadata": {},
   "outputs": [
    {
     "data": {
      "text/plain": [
       "<matplotlib.axes._subplots.AxesSubplot at 0x7f4d0e9738d0>"
      ]
     },
     "execution_count": 126,
     "metadata": {},
     "output_type": "execute_result"
    },
    {
     "data": {
      "image/png": "[encoded data removed]",
      "text/plain": [
       "<Figure size 432x288 with 2 Axes>"
      ]
     },
     "metadata": {
      "needs_background": "light"
     },
     "output_type": "display_data"
    }
   ],
   "source": [
    "cfm = {'y_pred': y_pred.reshape(517), 'y_true': Y_test.values}\n",
    "cfm_df = pd.DataFrame(cfm)\n",
    "confusion_matrix = pd.crosstab(cfm_df['y_pred'], cfm_df['y_true'], rownames=['Actual'], colnames=['Predicted'])\n",
    "\n",
    "sn.heatmap(confusion_matrix, annot=True)"
   ]
  },
  {
   "cell_type": "code",
   "execution_count": 127,
   "metadata": {},
   "outputs": [],
   "source": [
    "from sklearn.metrics import classification_report"
   ]
  },
  {
   "cell_type": "code",
   "execution_count": 129,
   "metadata": {},
   "outputs": [
    {
     "name": "stdout",
     "output_type": "stream",
     "text": [
      "              precision    recall  f1-score   support\n",
      "\n",
      "   non-event       0.91      0.95      0.93       396\n",
      "       event       0.82      0.69      0.75       121\n",
      "\n",
      "    accuracy                           0.89       517\n",
      "   macro avg       0.87      0.82      0.84       517\n",
      "weighted avg       0.89      0.89      0.89       517\n",
      "\n"
     ]
    }
   ],
   "source": [
    "print(classification_report(Y_test, y_pred, target_names=['non-event', 'event']))"
   ]
  },
  {
   "cell_type": "code",
   "execution_count": null,
   "metadata": {},
   "outputs": [],
   "source": []
  },
  {
   "cell_type": "markdown",
   "metadata": {},
   "source": [
    "#### NER"
   ]
  },
  {
   "cell_type": "code",
   "execution_count": 3,
   "metadata": {},
   "outputs": [],
   "source": [
    "data = pd.read_csv(\"dataset/tweet_preprocessed.csv\")"
   ]
  },
  {
   "cell_type": "code",
   "execution_count": 4,
   "metadata": {},
   "outputs": [],
   "source": [
    "def get_ner_label(text):\n",
    "    text = re.sub(r'\\t.+?\\n', '', text)\n",
    "    \n",
    "    cur_label = re.findall(\"TYPE=\\\"(.+?)\\\">(.+?)<\", text)\n",
    "    dict_label = dict((y, x) for x, y in cur_label)\n",
    "    \n",
    "    text = ' '.join(re.split('<ENAMEX.+?>|</ENAMEX>| ', text))\n",
    "    data = re.findall(r\"[\\w']+|[!\\\"#$%&\\(\\)*+,-./:;<=>?@\\[\\\\\\]\\^_`\\{\\|\\}~]\", text)\n",
    "\n",
    "    label = []\n",
    "    \n",
    "    for w in data:\n",
    "        if w in dict_label:\n",
    "            label.append('B-' + dict_label[w][:3])\n",
    "        else:\n",
    "            label.append('O')\n",
    "    \n",
    "    return data, label"
   ]
  },
  {
   "cell_type": "code",
   "execution_count": null,
   "metadata": {},
   "outputs": [],
   "source": []
  },
  {
   "cell_type": "code",
   "execution_count": 5,
   "metadata": {},
   "outputs": [],
   "source": [
    "ner_train = tuple(open(\"ner/training_data.txt\", 'r'))\n",
    "ner_valid = tuple(open(\"ner/testing_data.txt\", 'r'))"
   ]
  },
  {
   "cell_type": "code",
   "execution_count": 6,
   "metadata": {},
   "outputs": [],
   "source": [
    "train_x = []\n",
    "train_y = []\n",
    "valid_x = []\n",
    "valid_y = []"
   ]
  },
  {
   "cell_type": "code",
   "execution_count": 7,
   "metadata": {},
   "outputs": [],
   "source": [
    "for t in ner_train:\n",
    "    x, y = get_ner_label(t)\n",
    "    train_x.append(x)\n",
    "    train_y.append(y)\n",
    "\n",
    "for t in ner_valid:\n",
    "    x, y = get_ner_label(t)\n",
    "    valid_x.append(x)\n",
    "    valid_y.append(y)"
   ]
  },
  {
   "cell_type": "code",
   "execution_count": 8,
   "metadata": {},
   "outputs": [],
   "source": [
    "train_x = np.array(train_x)\n",
    "train_y = np.array(train_y)\n",
    "\n",
    "valid_x = np.array(valid_x)\n",
    "valid_y = np.array(valid_y)"
   ]
  },
  {
   "cell_type": "code",
   "execution_count": 42,
   "metadata": {},
   "outputs": [
    {
     "data": {
      "text/plain": [
       "'[PHYSICSDAY] Ayo Masyarakat Fisika berdiri dan bersuaralah untuk mendukung futsal fisika. 📆 : Senin, 18 Maret 2019 ⏰ : 19.30 🏠 : Gor Pertamina ITS 👕 : Blackwolf/Hitam (Kerudung Hitam) 💵 : 5k'"
      ]
     },
     "execution_count": 42,
     "metadata": {},
     "output_type": "execute_result"
    }
   ],
   "source": [
    "data[data['label'] == 1]['tweet_ner'].iloc[1]"
   ]
  },
  {
   "cell_type": "code",
   "execution_count": 9,
   "metadata": {},
   "outputs": [
    {
     "name": "stdout",
     "output_type": "stream",
     "text": [
      "Epoch 1/30\n",
      "85/85 [==============================] - 18s 217ms/step - loss: 45.1334\n",
      " - f1: 0.00\n",
      "Epoch 2/30\n",
      "85/85 [==============================] - 12s 139ms/step - loss: 38.8243\n",
      " - f1: 26.12\n",
      "Epoch 3/30\n",
      "85/85 [==============================] - 12s 135ms/step - loss: 38.5522\n",
      " - f1: 43.27\n",
      "Epoch 4/30\n",
      "85/85 [==============================] - 12s 135ms/step - loss: 35.1767\n",
      " - f1: 67.47\n",
      "Epoch 5/30\n",
      "85/85 [==============================] - 11s 135ms/step - loss: 36.2938\n",
      " - f1: 70.80\n",
      "Epoch 6/30\n",
      "85/85 [==============================] - 12s 145ms/step - loss: 35.2736\n",
      " - f1: 76.17\n",
      "Epoch 7/30\n",
      "85/85 [==============================] - 13s 148ms/step - loss: 34.4634\n",
      " - f1: 73.67\n",
      "Epoch 8/30\n",
      "85/85 [==============================] - 12s 137ms/step - loss: 35.1996\n",
      " - f1: 74.64\n",
      "Epoch 9/30\n",
      "85/85 [==============================] - 11s 135ms/step - loss: 35.4391\n",
      " - f1: 77.11\n",
      "Epoch 10/30\n",
      "85/85 [==============================] - 12s 138ms/step - loss: 34.4960\n",
      " - f1: 74.94\n",
      "Epoch 11/30\n",
      "85/85 [==============================] - 12s 137ms/step - loss: 35.0522\n",
      " - f1: 74.98\n",
      "Epoch 12/30\n",
      "85/85 [==============================] - 12s 136ms/step - loss: 35.1837\n",
      " - f1: 76.88\n"
     ]
    }
   ],
   "source": [
    "model = anago.Sequence(char_emb_size=25, word_emb_size=100, char_lstm_units=25,\n",
    "                       word_lstm_units=100, dropout=0.5, char_feature=True, crf=True,\n",
    "                       batch_size=20, optimizer='adam', learning_rate=0.001,lr_decay=0.9,\n",
    "                       clip_gradients=5.0, max_epoch=30, early_stopping=True, patience=3,\n",
    "                       train_embeddings=True, max_checkpoints_to_keep=5, log_dir=None)\n",
    " \n",
    "model.train(train_x, train_y, valid_x, valid_y)\n"
   ]
  },
  {
   "cell_type": "code",
   "execution_count": null,
   "metadata": {},
   "outputs": [],
   "source": []
  },
  {
   "cell_type": "code",
   "execution_count": 10,
   "metadata": {},
   "outputs": [],
   "source": [
    "words = 'Welcome Party UKM Robotika ITS, Kamis 2-10-2014 @Hall Pusat Robotika ITS, ayo datang & ramaikan temen2 anggota baru'\n",
    "words = re.findall(r\"[\\w']+|[!\\\"#$%&\\(\\)*+,-./:;<=>?@\\[\\\\\\]\\^_`\\{\\|\\}~]\", words)"
   ]
  },
  {
   "cell_type": "code",
   "execution_count": 11,
   "metadata": {},
   "outputs": [
    {
     "data": {
      "text/plain": [
       "{'words': ['Welcome',\n",
       "  'Party',\n",
       "  'UKM',\n",
       "  'Robotika',\n",
       "  'ITS',\n",
       "  ',',\n",
       "  'Kamis',\n",
       "  '2',\n",
       "  '-',\n",
       "  '10',\n",
       "  '-',\n",
       "  '2014',\n",
       "  '@',\n",
       "  'Hall',\n",
       "  'Pusat',\n",
       "  'Robotika',\n",
       "  'ITS',\n",
       "  ',',\n",
       "  'ayo',\n",
       "  'datang',\n",
       "  '&',\n",
       "  'ramaikan',\n",
       "  'temen2',\n",
       "  'anggota',\n",
       "  'baru'],\n",
       " 'entities': [{'text': 'ITS',\n",
       "   'type': 'ORG',\n",
       "   'score': 1.0,\n",
       "   'beginOffset': 16,\n",
       "   'endOffset': 17}]}"
      ]
     },
     "execution_count": 11,
     "metadata": {},
     "output_type": "execute_result"
    }
   ],
   "source": [
    "model.analyze(words)"
   ]
  },
  {
   "cell_type": "code",
   "execution_count": 20,
   "metadata": {},
   "outputs": [],
   "source": [
    "import gensim\n",
    " \n",
    "embeddings = gensim.models.Word2Vec.load(\"w2vec_wiki_id_case\")\n",
    "model = anago.Sequence(char_emb_size=50, word_emb_size=400, char_lstm_units=50,\n",
    "                       word_lstm_units=400, dropout=0.5, char_feature=True, crf=True,\n",
    "                       batch_size=20, optimizer='adam', learning_rate=0.001,lr_decay=0.9,\n",
    "                       clip_gradients=5.0, max_epoch=30, early_stopping=True, patience=3,\n",
    "                       train_embeddings=True, max_checkpoints_to_keep=5, log_dir=None, embeddings=embeddings)"
   ]
  },
  {
   "cell_type": "code",
   "execution_count": 21,
   "metadata": {},
   "outputs": [
    {
     "name": "stdout",
     "output_type": "stream",
     "text": [
      "Epoch 1/30\n",
      "85/85 [==============================] - 65s 763ms/step - loss: 40.4386\n",
      " - f1: 50.25\n",
      "Epoch 2/30\n",
      "85/85 [==============================] - 62s 724ms/step - loss: 36.2340\n",
      " - f1: 75.82\n",
      "Epoch 3/30\n",
      "85/85 [==============================] - 62s 731ms/step - loss: 34.2896\n",
      " - f1: 76.59\n",
      "Epoch 4/30\n",
      "85/85 [==============================] - 65s 760ms/step - loss: 35.5978\n",
      " - f1: 77.92\n",
      "Epoch 5/30\n",
      "85/85 [==============================] - 62s 731ms/step - loss: 34.8621\n",
      " - f1: 77.74\n",
      "Epoch 6/30\n",
      "85/85 [==============================] - 58s 677ms/step - loss: 33.1736\n",
      " - f1: 77.62\n",
      "Epoch 7/30\n",
      "85/85 [==============================] - 59s 692ms/step - loss: 35.5635\n",
      " - f1: 77.22\n"
     ]
    }
   ],
   "source": [
    "model.train(train_x, train_y, valid_x, valid_y)"
   ]
  },
  {
   "cell_type": "code",
   "execution_count": 14,
   "metadata": {},
   "outputs": [
    {
     "data": {
      "text/plain": [
       "{'words': ['Welcome',\n",
       "  'Party',\n",
       "  'UKM',\n",
       "  'Robotika',\n",
       "  'ITS',\n",
       "  ',',\n",
       "  'Kamis',\n",
       "  '2',\n",
       "  '-',\n",
       "  '10',\n",
       "  '-',\n",
       "  '2014',\n",
       "  '@',\n",
       "  'Hall',\n",
       "  'Pusat',\n",
       "  'Robotika',\n",
       "  'ITS',\n",
       "  ',',\n",
       "  'ayo',\n",
       "  'datang',\n",
       "  '&',\n",
       "  'ramaikan',\n",
       "  'temen2',\n",
       "  'anggota',\n",
       "  'baru'],\n",
       " 'entities': []}"
      ]
     },
     "execution_count": 14,
     "metadata": {},
     "output_type": "execute_result"
    }
   ],
   "source": [
    "model.analyze(words)"
   ]
  },
  {
   "cell_type": "code",
   "execution_count": null,
   "metadata": {},
   "outputs": [],
   "source": []
  },
  {
   "cell_type": "code",
   "execution_count": 17,
   "metadata": {},
   "outputs": [],
   "source": [
    "embeddings = gensim.models.KeyedVectors.load_word2vec_format(\"w2vec_glove_wiki_id.txt\")\n",
    "model = anago.Sequence(char_emb_size=25, word_emb_size=50, char_lstm_units=25,\n",
    "                       word_lstm_units=50, dropout=0.5, char_feature=True, crf=True,\n",
    "                       batch_size=20, optimizer='adam', learning_rate=0.001,lr_decay=0.9,\n",
    "                       clip_gradients=5.0, max_epoch=30, early_stopping=True, patience=3,\n",
    "                       train_embeddings=True, max_checkpoints_to_keep=5, log_dir=None, embeddings=embeddings)"
   ]
  },
  {
   "cell_type": "code",
   "execution_count": 18,
   "metadata": {},
   "outputs": [
    {
     "name": "stdout",
     "output_type": "stream",
     "text": [
      "Epoch 1/30\n",
      "85/85 [==============================] - 13s 154ms/step - loss: 42.6788\n",
      " - f1: 0.00\n",
      "Epoch 2/30\n",
      "85/85 [==============================] - 9s 108ms/step - loss: 39.7868\n",
      " - f1: 5.86\n",
      "Epoch 3/30\n",
      "85/85 [==============================] - 12s 137ms/step - loss: 38.7313\n",
      " - f1: 32.09\n",
      "Epoch 4/30\n",
      "85/85 [==============================] - 9s 111ms/step - loss: 36.7381\n",
      " - f1: 56.82\n",
      "Epoch 5/30\n",
      "85/85 [==============================] - 10s 112ms/step - loss: 37.0301\n",
      " - f1: 59.21\n",
      "Epoch 6/30\n",
      "85/85 [==============================] - 9s 111ms/step - loss: 37.3725\n",
      " - f1: 72.03\n",
      "Epoch 7/30\n",
      "85/85 [==============================] - 12s 136ms/step - loss: 37.5831\n",
      " - f1: 71.27\n",
      "Epoch 8/30\n",
      "85/85 [==============================] - 10s 115ms/step - loss: 36.5990\n",
      " - f1: 77.69\n",
      "Epoch 9/30\n",
      "85/85 [==============================] - 10s 112ms/step - loss: 36.3398\n",
      " - f1: 77.06\n",
      "Epoch 10/30\n",
      "85/85 [==============================] - 10s 119ms/step - loss: 34.9243\n",
      " - f1: 81.32\n",
      "Epoch 11/30\n",
      "85/85 [==============================] - 10s 123ms/step - loss: 35.6065\n",
      " - f1: 78.84\n",
      "Epoch 12/30\n",
      "85/85 [==============================] - 11s 134ms/step - loss: 36.1787\n",
      " - f1: 79.25\n",
      "Epoch 13/30\n",
      "85/85 [==============================] - 10s 114ms/step - loss: 34.5958\n",
      " - f1: 80.40\n"
     ]
    }
   ],
   "source": [
    "model.train(train_x, train_y, valid_x, valid_y)"
   ]
  },
  {
   "cell_type": "code",
   "execution_count": 19,
   "metadata": {},
   "outputs": [
    {
     "data": {
      "text/plain": [
       "{'words': ['Welcome',\n",
       "  'Party',\n",
       "  'UKM',\n",
       "  'Robotika',\n",
       "  'ITS',\n",
       "  ',',\n",
       "  'Kamis',\n",
       "  '2',\n",
       "  '-',\n",
       "  '10',\n",
       "  '-',\n",
       "  '2014',\n",
       "  '@',\n",
       "  'Hall',\n",
       "  'Pusat',\n",
       "  'Robotika',\n",
       "  'ITS',\n",
       "  ',',\n",
       "  'ayo',\n",
       "  'datang',\n",
       "  '&',\n",
       "  'ramaikan',\n",
       "  'temen2',\n",
       "  'anggota',\n",
       "  'baru'],\n",
       " 'entities': []}"
      ]
     },
     "execution_count": 19,
     "metadata": {},
     "output_type": "execute_result"
    }
   ],
   "source": [
    "model.analyze(words)"
   ]
  },
  {
   "cell_type": "code",
   "execution_count": null,
   "metadata": {},
   "outputs": [],
   "source": []
  },
  {
   "cell_type": "code",
   "execution_count": null,
   "metadata": {},
   "outputs": [],
   "source": []
  },
  {
   "cell_type": "code",
   "execution_count": null,
   "metadata": {},
   "outputs": [],
   "source": []
  },
  {
   "cell_type": "code",
   "execution_count": 1,
   "metadata": {},
   "outputs": [],
   "source": [
    "from bs4 import BeautifulSoup"
   ]
  },
  {
   "cell_type": "code",
   "execution_count": 2,
   "metadata": {},
   "outputs": [],
   "source": [
    "with open(\"extra/map.osm\") as fp:\n",
    "    soup = BeautifulSoup(fp)"
   ]
  },
  {
   "cell_type": "code",
   "execution_count": 7,
   "metadata": {},
   "outputs": [
    {
     "name": "stdout",
     "output_type": "stream",
     "text": [
      "Bundaran ITS\n",
      "Bank Mandiri\n",
      "BNI\n",
      "BRI\n",
      "Monumen Titik Nol ITS\n",
      "Parkir Perpustakaan ITS\n",
      "Panjat Dinding ITS\n",
      "PENS\n",
      "Apartemen Puncak Kertajaya\n",
      "kertajaya indah\n",
      "Blok T\n",
      "Sate Kambing & Gulai Keputih\n",
      "Sego Njamoer\n",
      "Jalan Kertajaya Indah Timur XVIII\n",
      "Fotokopi + Print TMB\n",
      "BTS\n",
      "Pondok Pesantren Muhyiddin\n",
      "Masjid Ahmad Yani\n",
      "Masjid Ahmad Yani\n",
      "Mushola An-Nahl\n",
      "Musholah dewa ruci\n",
      "Masjid Bahrul Ulum PPNS\n",
      "Cafetaria Informatika\n",
      "Jalan Kejawan Putih Tambak\n",
      "Jalan KH. Ahmad Dahlan\n",
      "Jl. Teknik Sipil\n",
      "Jalan Teknik Elektro\n",
      "Graha Sepuluh Nopember\n",
      "Perpustakaan ITS\n",
      "taman sipil\n",
      "D3 Mesin\n",
      "Sistem Informasi\n",
      "Mushola SI\n",
      "Gebang Kidul\n",
      "REKTORAT\n",
      "UPT Bahasa\n",
      "Asrama PENS-ITS\n",
      "Asrama PENS-ITS\n",
      "Asrama PENS-ITS\n",
      "Lapangan Futsal Teknik Sipil\n",
      "Parkir mobil dinas\n",
      "Lapangan futsal\n",
      "Gedung D3 (Teknik Mesin, Elektro, Kimia)\n",
      "Kantor Satuan Keamanan Kampus\n",
      "Puskom\n",
      "Lab Bahasa\n",
      "Kimia\n",
      "UPMS\n",
      "Jurusan Arsitektur ITS\n",
      "Masjid Manarul Ilmi\n",
      "SCC\n",
      "BAUK ITS\n",
      "Informatika\n",
      "Gedung Nasdec ITS\n",
      "Lab Pengembangan Teknologi Hidrodinamika\n",
      "Rektorat PPNS\n",
      "Asrama ITS\n",
      "Parkir asrama\n",
      "Despro\n",
      "Asrama ITS\n",
      "GOR ITS\n",
      "Asrama ITS\n",
      "Asrama ITS\n",
      "Biologi\n",
      "UPT Fasor\n",
      "Asrama ITS\n",
      "Musholla\n",
      "Stadion ITS\n",
      "security post\n",
      "Asrama ITS\n",
      "Masjid Ahmad Yani\n",
      "Masjid Jami' Nurul Mu'minin\n",
      "Jalan Teknik Lingkungan\n",
      "Jalan Teknik Arsitektur\n",
      "Jl. Teknik Mesin\n",
      "Jalan Teknik Kimia\n",
      "Kertajaya Indah Regency\n",
      "Kertajaya Indah Regency\n",
      "Kertajaya Indah Regency\n",
      "Lapangan Basket ITS\n",
      "Futsal ITS\n",
      "Jalan Kertajaya Indah Timur XII\n",
      "Lapangan Basket ITS\n",
      "Jalan Teknik Elektro\n",
      "Jalan Teknik Kimia\n",
      "Jalan Teknik Hidrodinamika\n",
      "Jalan Teknik Hidrodinamika\n",
      "Jalan Teknik Kelautan\n",
      "Jalan Teknik Lansekap\n",
      "departemen perencanaan wilayah\n",
      "Teknik Lingkungan\n",
      "Pos SKK Utama\n",
      "Lapangan Futsal Pertamina\n",
      "Gebang Wetan Gang I\n",
      "Gang Gebang Wetan\n",
      "Gang Gebang\n",
      "Gang Roda Sekolahan\n",
      "Gang Roda Sekolahan\n",
      "Jalan Raya ITS\n",
      "Jalan Raya Mulyosari\n",
      "Jalan Raya Mulyosari\n",
      "Jalan Raya Mulyosari\n",
      "Jalan Raya Mulyosari\n",
      "Kertajaya Indah Regency\n",
      "Kertajaya Indah Regency\n",
      "Kertajaya Indah Regency\n",
      "Jalan Gebang Lor\n",
      "Kertajaya Indah Regency\n",
      "Jl. KH. Ahmad Dahlan\n",
      "Jl. KH. Ahmad Dahlan\n",
      "Jalan Wisma Permai IX\n",
      "Jalan Wisma Permai IV\n",
      "Jalan Kertajaya Indah Timur X\n",
      "Jalan Wisma Permai 6\n",
      "Jalan Wisma Permai 8\n",
      "Jalan Kertajaya Indah Timur II\n",
      "Jalan Wisma Permai VII\n",
      "Jalan Kertajaya Indah Timur IX\n",
      "Jalan Wisma Permai II\n",
      "Jalan Dharmahusada Megah Permai I\n",
      "Jalan Kertajaya Indah Timur VIII\n",
      "Jalan Kejawan Putih Indah 7\n",
      "Jalan Raya Laguna Kejawen Putih Timur\n",
      "Jalan Kejawan Putih Indah 5\n",
      "Jalan Kejawan Putih Indah 2\n",
      "Jalan Kalisari Damen\n",
      "Jalan Kejawen Putih Tambak II\n",
      "Jalan Kalisari Damen\n",
      "Jalan Kejawan Putih Indah 8\n",
      "Jalan Keputih Timur\n",
      "Jalan Marina Emas\n",
      "Jalan Marina Emas Selatan X\n",
      "Jalan Marina Emas Selatan XI\n",
      "Keputih Gang IC\n",
      "Jalan Marina Emas Selatan VII\n",
      "Keputih Utara Gang Langgar\n",
      "Jalan Marina Emas Selatan IX\n",
      "Jalan Keputih Gang Buntu\n",
      "Jalan Keputih Perintis Tengah\n",
      "Jalan Keputih Perintis IV\n",
      "Keputih Gang IB\n",
      "Jalan Kejawan Gebang 3\n",
      "Jalan Hidrodinamika\n",
      "Jalan Kejawen Putih Tambak VI\n",
      "Jalan Wisma Permai I\n",
      "Jalan Wisma Permai XII\n",
      "Jalan Wisma Permai III\n",
      "Jalan Wisma Permai\n",
      "Jalan Wisma Permai V\n",
      "Jalan Wisma Permai IX\n",
      "Jalan Wisma Permai XIV\n",
      "Jalan Wisma Permai VII\n",
      "Jalan Wisma Permai\n",
      "Jalan Wisma Permai VIII\n",
      "Jalan Wisma Permai XIII\n",
      "Jalan Wisma Permai VIII\n",
      "Jalan Wisma Permai X\n",
      "Jalan Wisma Permai Tengah\n",
      "Jalan Wisma Permai VI\n",
      "Jalan Wisma Permai XI\n",
      "Jalan Kejawen Putih Tambak 1\n",
      "Danau Asrama ITS\n",
      "Asrama ITS\n",
      "Klinik ITS\n",
      "Jurusan Teknik Perkapalan\n",
      "Teknik Kelautan\n",
      "Laboratorium Energi\n",
      "Gedung Pusat Robotika ITS\n",
      "Teknik Kimia\n",
      "Jurusan Material & Metalurgi\n",
      "Teknik Perkapalan\n",
      "Sistem Perkapalan\n",
      "Jalan Bundaran Robotika ITS\n",
      "Teknik Fisika\n",
      "Teknik Mesin\n",
      "Teknik Elektro ITS\n",
      "Jalan Teknik Industri\n",
      "Statistika\n",
      "Fisika\n",
      "Statistika\n",
      "Matematika\n",
      "Kolam Graha Sepuluh Nopember\n",
      "Tempat Parkir D3\n",
      "Lab Rekayasa Forensik\n",
      "Teknik Multimedia dan Jaringan\n",
      "Tempat Parkir\n",
      "Student Parking Area\n",
      "Red Square\n",
      "Fitsal Field\n",
      "Car Parking Area\n",
      "Jalan Teknik Kimia\n",
      "Keputih Gang I\n",
      "Jalan Kertajaya Indah\n",
      "Jalan Kertajaya Indah\n",
      "Jalan Raya ITS\n",
      "Jalan Kejawan Putih Tambak\n",
      "Jalan Kejawan Putih Tambak\n",
      "Wisma Flamboyan\n",
      "Dharma Wanita ITS\n",
      "Parkir FMIPA\n",
      "Parkir Motor FMIPA\n",
      "Teknik Sipil\n",
      "Gedung Laboratorium Energi\n",
      "LPPM ITS\n",
      "paud geomat\n",
      "Teknik Geomatika ITS\n",
      "Lorong Geomatika\n",
      "Selasar\n",
      "Gedung Robotika ITS\n",
      "Arsitektur\n",
      "Teknik Sipil\n",
      "gazebo arsitektur\n",
      "Lorong Perpus FTK UPMS\n",
      "Teknik Sipil\n",
      "Kolam Rektorat / Air Mancur Rektorat\n",
      "Keputih Utara Gang Langgar\n",
      "Jembatan Shiratal Mustaqim\n",
      "Kali Keputih\n",
      "sekretariat JMMI TPKI ITS\n",
      "Jurusan Teknik Sipil\n",
      "Jurusan Teknik Sipil\n",
      "Jurusan Teknik Sipil\n",
      "Jalan Kejawan Gebang 2\n",
      "Jalan Keputih Perintis V\n",
      "Kwik Print\n",
      "Danau\n",
      "Booms Futsal\n",
      "PAUD Mawar\n",
      "Pondok Pesantren Muhyiddin\n",
      "Gedung Pusat Riset ITS\n",
      "Parkir FTK\n",
      "Gedung UPMB dan Pascasarjana\n",
      "Biologi FMIPA ITS\n",
      "Biologi FMIPA ITS\n",
      "Gedung Teater A\n",
      "Lapangan Futsal Elektro\n",
      "Biologi ITS\n",
      "Danau Statistika\n",
      "Parkir Mobil Masjin Manarul Ilmi\n",
      "Parkir Motor Masjid Manarul Ilmi ITS\n",
      "Raman BAAK-ITS\n",
      "Taman Alumni ITS\n",
      "Taman Perkapalan\n",
      "Taman Segitiga ITS\n",
      "Taman Statistika\n",
      "Theater B\n",
      "Theater C\n",
      "Lapangan Perpustakaan ITS\n",
      "Parkir Mobil Belakang Rektorat\n",
      "Parkir Motor BAAK\n",
      "Parkir Mobil Jurusan Arsitektur\n",
      "Kolam Jurusan Manajemen Bisnis\n",
      "Kolam SCC\n",
      "Lapangan Tenis ITS\n",
      "Lapangan Tenis ITS\n",
      "Lapangan Voli ITS\n",
      "Parkiran Pertamina\n",
      "Kantin Pusat ITS\n",
      "Tribun Stadion ITS\n",
      "Jalan Wisma Permai 5\n",
      "Taman Benzena\n",
      "Institut Teknologi Sepuluh Nopember\n",
      "Jalan Grand Peninsula Park Blok AC\n",
      "Danau 8 ITS\n",
      "Urban And Regional Planning Parking Lot\n",
      "Pondok Pesantren Darul Hijrah\n",
      "Zuper Futsal\n",
      "Masjid Hidayatullah\n",
      "Masjid Asqhal Madinah\n",
      "Pemakaman Umum Kelurahan Gebang Putih\n",
      "anfal\n",
      "Jalan Kejawan Putih BMA\n",
      "Jalan Kejawan Putih BMA\n",
      "Jalan Kejawan Gebang VI\n",
      "Lapangan Tenis Wisma Permai\n",
      "Jalan Kejawan Putih Indah 6\n",
      "Jalan Kejawan Putih Indah 12\n",
      "Jalan Kejawan Putih Indah 4\n",
      "Jalan Kejawen Putih Tambak 7\n",
      "Jalan Kejawan Putih Tambak\n",
      "Masjid Baitur Rouf\n",
      "Langgar Wakaf Al-Hidayah\n",
      "Kertajaya Indah Regency\n",
      "Kertajaya Indah Regency\n",
      "Kertajaya Indah Regency\n",
      "Masjid Masyithoh\n",
      "Jalan Wisma Permai Tengah I\n",
      "Jalan Raya Laguna Kejawen Putih Timur\n",
      "Jalan Kejawan Putih Tambak\n",
      "Gang Puskesmas\n",
      "SD Mabadiul Ulum\n",
      "Masjid Assyafi'iyah\n",
      "Gang Gebang Kidul\n",
      "Sekolah Dasar Kristen Kristus Raja\n",
      "VibrasticLab\n",
      "Jalan Wisma Permai III\n",
      "SD Luqman Al Hakim\n",
      "Sekolah Tinggi Agama Islam Luqman Al Hakim\n",
      "Jalan Kejawen Putih Tambak 7\n",
      "Jalan Kejawen Putih Tambak Baru\n",
      "SMP-SMA Luqman Al Hakim\n",
      "Luqman Al Hakim\n",
      "Jalan Kejawen Putih Tambak 6\n",
      "TKA dan TPA Baitul Muttaqin\n",
      "Balai RW 3 Kalisari Damen\n",
      "Masjid An Nur\n",
      "Fakultas MIPA ITS\n",
      "Rumah Pompa Kejawen\n",
      "Danau Elektro\n",
      "Jalan Kejawan Putih Tambak\n",
      "Jalan Kejawan Putih Tambak\n",
      "Jalan Kejawan Putih Tambak\n",
      "Jalan Kejawan Putih Tambak\n",
      "Rumah Pompa\n",
      "Kertajaya Indah Regency\n",
      "Keputih Utara Gang Langgar\n",
      "Jalan Tegal Mulyorejo Baru\n",
      "Jalan Teknik Arsitektur\n",
      "Jalan Teknik Lansekap\n",
      "Jalan Teknik Lansekap\n",
      "Jl. Teknik Mesin\n",
      "Jalan Teknik Mesin\n",
      "Jalan Kejawan Putih Tambak\n",
      "Jalan Kejawan Putih Tambak\n",
      "Jalan Tegal Mulyorejo Baru\n",
      "Jalan Tegal Mulyorejo Baru\n",
      "Kantor Kelurahan Kejawen Putih Tambak\n",
      "SD Negeri Kejawen Putih 1\n",
      "Kantor Pos Sukolilo\n",
      "Lab-lab TF\n",
      "Taman Teknik Fisika\n",
      "Jl. Teknik Mesin\n",
      "Jl. Teknik Mesin\n",
      "Jalan Teknik Elektro\n",
      "Jalan Teknik Elektro\n",
      "Jalan Teknik Mesin\n",
      "Jalan Teknik Mesin\n",
      "Jalan Teknik Kimia\n",
      "Jalan Teknik Kimia\n",
      "Jalan Teknik Industri\n",
      "Jalan Teknik Industri\n",
      "Teknik Industri\n",
      "Jl. Teknik Mesin\n",
      "Jl. Teknik Mesin\n",
      "Jalan Keputih Timur\n",
      "Jalan Keputih Timur\n",
      "Jalan Keputih Timur\n",
      "Jalan KH. Ahmad Dahlan\n",
      "Jl. Teknik Mesin\n",
      "Jalan Teknik Kimia\n",
      "Jalan Teknik Elektro\n",
      "Jalan Teknik Elektro\n",
      "Jalan Teknik Kimia\n",
      "Jl. Teknik Mesin\n",
      "Jalan Teknik Elektro\n",
      "Jalan Teknik Kimia\n",
      "Jalan Kejawan Putih Tambak\n",
      "lapangan pwk\n",
      "Pakuwon City\n",
      "Wisma Permai\n",
      "Dharmahusada Mas\n",
      "Grand Peninsula Park\n",
      "Kertajaya Indah Regency\n",
      "Pondok Pesantren Hidayatullah\n",
      "Jl. Teknik Mesin\n",
      "Jalan Hidrodinamika\n",
      "Jalan Teknik Hidrodinamika\n",
      "Jalan Teknik Hidrodinamika\n",
      "Jalan Teknik Kimia\n",
      "Jalan Teknik Kimia\n",
      "Jalan Teknik Elektro\n",
      "Politeknik Elektronika Negeri Surabaya\n",
      "Jalan Sutorejo Barat\n",
      "Kertajaya Indah Regency\n",
      "Jalan Raya Mulyosari\n",
      "Jalan Raya Mulyosari\n",
      "Jalan Wisma Permai 5\n",
      "Jalan Wisma Permai 5\n",
      "Jalan Wisma Permai Tengah I\n",
      "Jalan Wisma Permai Tengah I\n",
      "Jalan Marina Emas Selatan VIII\n",
      "Jalan Teknik Elektro\n",
      "Jalan Kejawan Putih Tambak\n",
      "Jalan Kejawan Putih Tambak\n",
      "Sukolilo\n",
      "RW 06\n",
      "Kejawen Putih Tambak\n",
      "Mulyorejo\n",
      "RW 01\n",
      "Gebang Putih\n",
      "RW 03\n",
      "Institut Teknologi Sepuluh Nopember\n",
      "RW 05\n",
      "RW 05\n",
      "RW 02\n",
      "RW 01\n",
      "Keputih\n",
      "Mulyorejo\n",
      "RW 03\n",
      "RW 02\n",
      "Kalisari\n",
      "RW 04\n",
      "RW 04\n",
      "RW 06\n",
      "RW 07\n",
      "RW 03\n",
      "RW 04\n",
      "RW 06\n",
      "RW 01\n",
      "RW 02\n",
      "RW 03\n",
      "Danau Informatika\n",
      "BS (ITS => Unesa)\n",
      "BS (Unesa => ITS)\n",
      "Bus Suroboyo (Barat-Timur)\n"
     ]
    }
   ],
   "source": [
    "tags = soup.findAll('tag')\n",
    "\n",
    "for tag in tags:\n",
    "    if str(tag['k']) == 'name':\n",
    "        print(str(tag['v']))"
   ]
  },
  {
   "cell_type": "code",
   "execution_count": 22,
   "metadata": {},
   "outputs": [],
   "source": [
    "places = []"
   ]
  },
  {
   "cell_type": "code",
   "execution_count": 23,
   "metadata": {},
   "outputs": [],
   "source": [
    "with open('extra/Gazetteer.txt') as f:\n",
    "    lines = f.readlines()\n",
    "    for line in lines:\n",
    "        places.append(line[:-1])"
   ]
  },
  {
   "cell_type": "code",
   "execution_count": 26,
   "metadata": {},
   "outputs": [],
   "source": [
    "places = list(set(places))"
   ]
  },
  {
   "cell_type": "code",
   "execution_count": 27,
   "metadata": {},
   "outputs": [
    {
     "data": {
      "text/plain": [
       "292"
      ]
     },
     "execution_count": 27,
     "metadata": {},
     "output_type": "execute_result"
    }
   ],
   "source": [
    "len(places)"
   ]
  },
  {
   "cell_type": "code",
   "execution_count": 28,
   "metadata": {},
   "outputs": [],
   "source": [
    "with open(\"Gazetteer.txt\", \"w\") as f:\n",
    "    for p in places:\n",
    "        f.write(p + '\\n')"
   ]
  },
  {
   "cell_type": "code",
   "execution_count": null,
   "metadata": {},
   "outputs": [],
   "source": []
  }
 ],
 "metadata": {
  "kernelspec": {
   "display_name": "Python 3",
   "language": "python",
   "name": "python3"
  },
  "language_info": {
   "codemirror_mode": {
    "name": "ipython",
    "version": 3
   },
   "file_extension": ".py",
   "mimetype": "text/x-python",
   "name": "python",
   "nbconvert_exporter": "python",
   "pygments_lexer": "ipython3",
   "version": "3.6.1"
  }
 },
 "nbformat": 4,
 "nbformat_minor": 2
}
